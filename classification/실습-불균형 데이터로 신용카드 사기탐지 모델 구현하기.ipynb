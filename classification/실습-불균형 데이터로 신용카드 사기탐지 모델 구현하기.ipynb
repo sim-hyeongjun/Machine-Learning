{
 "cells": [
  {
   "cell_type": "markdown",
   "metadata": {
    "id": "6RXBP2bpHfrd"
   },
   "source": [
    "# 불균형 데이터로 신용카드 사기탐지 모델 구현하기"
   ]
  },
  {
   "cell_type": "markdown",
   "metadata": {
    "id": "r3oNZXg_Hfrg"
   },
   "source": [
    "## 실습 가이드\n",
    "1. 데이터를 다운로드하여 Colab에 불러옵니다.\n",
    "2. 필요한 라이브러리는 모두 코드로 작성되어 있습니다.\n",
    "3. 코드는 위에서부터 아래로 순서대로 실행합니다.\n",
    "4. 전체 문제 구성은 좌측 첫 번째 아이콘을 통해 확인할 수 있습니다."
   ]
  },
  {
   "cell_type": "markdown",
   "metadata": {
    "id": "rKPC3yv-Hfri"
   },
   "source": [
    "## Step 0. 사기탐지 분류 모형 개요"
   ]
  },
  {
   "cell_type": "markdown",
   "metadata": {
    "id": "ldKeImC6Hfri"
   },
   "source": [
    "### 금융 데이터의 특성 (Review)\n",
    "- 1) 이종(heterogeneous) 데이터의 결합\n",
    "- 2) <b>분포의 편향성(skewness)</b>\n",
    "- 3) 분류 레이블의 불명확성\n",
    "- 4) 변수의 다중공선성(multicollinearity)\n",
    "- 5) 변수의 비선형성\n",
    "- 그 외 현실적인 규제·수집·저장 등의 한계 때문에 데이터가 불완전(missing, truncated, censored)할 수 있음\n",
    "\n",
    "사기탐지(Fraud Detection) 분류는 주로 2)와 관련한 금융 데이터의 특성을 가진 문제입니다. "
   ]
  },
  {
   "cell_type": "markdown",
   "metadata": {
    "id": "gPz_1APCHfrj"
   },
   "source": [
    "### 불균형 데이터의 머신러닝\n",
    "\n",
    "- 데이터 불균형(Imbalanced Data): 머신러닝의 지도학습에서 분류하기 위한 각 클래스(레이블)에 해당하는 데이터의 양에 차이가 큰 경우\n",
    "- 특정 클래스가 부족할 때 생기는 문제: (1) 과대적합, (2) 알고리즘이 수렴하지 않는 현상 발생\n",
    "\n",
    "\n",
    "- 1) X (피처)의 불균형\n",
    "    - 범주변수일 경우 범주에 따라 빈도가 낮을 수 있음\n",
    "    - 고차원 피처 공간의 축소(Feature Transformation)\n",
    "    - PCA, t-SNE 등의 알고리즘 사용\n",
    "    \n",
    "    \n",
    "- 2) y (타겟)의 불균형\n",
    "    - 여신(대출), 수신(적금), 보험(클레임), 카드(사기탐지), 거시경제(불황) 등 대부분의 금융 데이터는 희소 타겟 문제\n",
    "    - 리샘플링(Resampling)으로 저빈도 데이터를 극복\n",
    "    - 무선 과대표집(Random Oversampling), 무선 과소표집(Random Undersampling), SMOTE, Tomek Links 등의 알고리즘 사용"
   ]
  },
  {
   "cell_type": "markdown",
   "metadata": {
    "id": "1r6zfj9THfrk"
   },
   "source": [
    "### 학습목표\n",
    "\n",
    "- 1) 불균형 데이터 분류 문제에 대한 이해\n",
    "- 2) 피처 변환 알고리즘의 이해\n",
    "- 3) 과대적합 발생시 해결 방법 습득\n",
    "- 4) 리샘플링 알고리즘에 대한 이해\n",
    "- 5) 불균형 데이터를 이용한 분류 결과의 올바른 해석 방법 습득"
   ]
  },
  {
   "cell_type": "markdown",
   "metadata": {
    "id": "ra6IEJ9tHfrl"
   },
   "source": [
    "## Step 1. 데이터를 학습에 맞게 변환하기"
   ]
  },
  {
   "cell_type": "markdown",
   "metadata": {
    "id": "QHpAzsZ5Hfrl"
   },
   "source": [
    "- 데이터 소개\n",
    "https://www.kaggle.com/mlg-ulb/creditcardfraud"
   ]
  },
  {
   "cell_type": "code",
   "execution_count": 98,
   "metadata": {
    "id": "dGN-digpHfrm"
   },
   "outputs": [],
   "source": [
    "import numpy as np  \n",
    "import pandas as pd \n",
    "import matplotlib.pyplot as plt\n",
    "import matplotlib.patches as mpatches\n",
    "%matplotlib inline"
   ]
  },
  {
   "cell_type": "code",
   "execution_count": 99,
   "metadata": {
    "id": "1GlaUWLEHfrn"
   },
   "outputs": [],
   "source": [
    "import warnings\n",
    "warnings.filterwarnings(\"ignore\")"
   ]
  },
  {
   "cell_type": "markdown",
   "metadata": {
    "id": "ikT-bsuHHfrn"
   },
   "source": [
    "### 문제 01. 데이터 확인하기"
   ]
  },
  {
   "cell_type": "code",
   "execution_count": 100,
   "metadata": {
    "id": "-cGimkvSHfrn"
   },
   "outputs": [],
   "source": [
    "filepath = 'https://github.com/mchoimis/financialml/raw/main/fraud/'"
   ]
  },
  {
   "cell_type": "code",
   "execution_count": 101,
   "metadata": {
    "id": "nVnJgfASHfro"
   },
   "outputs": [
    {
     "name": "stdout",
     "output_type": "stream",
     "text": [
      "<class 'pandas.core.frame.DataFrame'>\n",
      "RangeIndex: 284807 entries, 0 to 284806\n",
      "Data columns (total 31 columns):\n",
      " #   Column  Non-Null Count   Dtype  \n",
      "---  ------  --------------   -----  \n",
      " 0   Time    284807 non-null  float64\n",
      " 1   V1      284807 non-null  float64\n",
      " 2   V2      284807 non-null  float64\n",
      " 3   V3      284807 non-null  float64\n",
      " 4   V4      284807 non-null  float64\n",
      " 5   V5      284807 non-null  float64\n",
      " 6   V6      284807 non-null  float64\n",
      " 7   V7      284807 non-null  float64\n",
      " 8   V8      284807 non-null  float64\n",
      " 9   V9      284807 non-null  float64\n",
      " 10  V10     284807 non-null  float64\n",
      " 11  V11     284807 non-null  float64\n",
      " 12  V12     284807 non-null  float64\n",
      " 13  V13     284807 non-null  float64\n",
      " 14  V14     284807 non-null  float64\n",
      " 15  V15     284807 non-null  float64\n",
      " 16  V16     284807 non-null  float64\n",
      " 17  V17     284807 non-null  float64\n",
      " 18  V18     284807 non-null  float64\n",
      " 19  V19     284807 non-null  float64\n",
      " 20  V20     284807 non-null  float64\n",
      " 21  V21     284807 non-null  float64\n",
      " 22  V22     284807 non-null  float64\n",
      " 23  V23     284807 non-null  float64\n",
      " 24  V24     284807 non-null  float64\n",
      " 25  V25     284807 non-null  float64\n",
      " 26  V26     284807 non-null  float64\n",
      " 27  V27     284807 non-null  float64\n",
      " 28  V28     284807 non-null  float64\n",
      " 29  Amount  284807 non-null  float64\n",
      " 30  Class   284807 non-null  int64  \n",
      "dtypes: float64(30), int64(1)\n",
      "memory usage: 67.4 MB\n"
     ]
    }
   ],
   "source": [
    "# 파일 불러오기\n",
    "df =  pd.read_csv('creditcard.csv')\n",
    "df.info()"
   ]
  },
  {
   "cell_type": "code",
   "execution_count": 102,
   "metadata": {
    "id": "ieJ3roE7Hfro",
    "scrolled": true
   },
   "outputs": [
    {
     "data": {
      "text/html": [
       "<div>\n",
       "<style scoped>\n",
       "    .dataframe tbody tr th:only-of-type {\n",
       "        vertical-align: middle;\n",
       "    }\n",
       "\n",
       "    .dataframe tbody tr th {\n",
       "        vertical-align: top;\n",
       "    }\n",
       "\n",
       "    .dataframe thead th {\n",
       "        text-align: right;\n",
       "    }\n",
       "</style>\n",
       "<table border=\"1\" class=\"dataframe\">\n",
       "  <thead>\n",
       "    <tr style=\"text-align: right;\">\n",
       "      <th></th>\n",
       "      <th>Time</th>\n",
       "      <th>V1</th>\n",
       "      <th>V2</th>\n",
       "      <th>V3</th>\n",
       "      <th>V4</th>\n",
       "      <th>V5</th>\n",
       "      <th>V6</th>\n",
       "      <th>V7</th>\n",
       "      <th>V8</th>\n",
       "      <th>V9</th>\n",
       "      <th>...</th>\n",
       "      <th>V21</th>\n",
       "      <th>V22</th>\n",
       "      <th>V23</th>\n",
       "      <th>V24</th>\n",
       "      <th>V25</th>\n",
       "      <th>V26</th>\n",
       "      <th>V27</th>\n",
       "      <th>V28</th>\n",
       "      <th>Amount</th>\n",
       "      <th>Class</th>\n",
       "    </tr>\n",
       "  </thead>\n",
       "  <tbody>\n",
       "    <tr>\n",
       "      <th>0</th>\n",
       "      <td>0.0</td>\n",
       "      <td>-1.359807</td>\n",
       "      <td>-0.072781</td>\n",
       "      <td>2.536347</td>\n",
       "      <td>1.378155</td>\n",
       "      <td>-0.338321</td>\n",
       "      <td>0.462388</td>\n",
       "      <td>0.239599</td>\n",
       "      <td>0.098698</td>\n",
       "      <td>0.363787</td>\n",
       "      <td>...</td>\n",
       "      <td>-0.018307</td>\n",
       "      <td>0.277838</td>\n",
       "      <td>-0.110474</td>\n",
       "      <td>0.066928</td>\n",
       "      <td>0.128539</td>\n",
       "      <td>-0.189115</td>\n",
       "      <td>0.133558</td>\n",
       "      <td>-0.021053</td>\n",
       "      <td>149.62</td>\n",
       "      <td>0</td>\n",
       "    </tr>\n",
       "    <tr>\n",
       "      <th>1</th>\n",
       "      <td>0.0</td>\n",
       "      <td>1.191857</td>\n",
       "      <td>0.266151</td>\n",
       "      <td>0.166480</td>\n",
       "      <td>0.448154</td>\n",
       "      <td>0.060018</td>\n",
       "      <td>-0.082361</td>\n",
       "      <td>-0.078803</td>\n",
       "      <td>0.085102</td>\n",
       "      <td>-0.255425</td>\n",
       "      <td>...</td>\n",
       "      <td>-0.225775</td>\n",
       "      <td>-0.638672</td>\n",
       "      <td>0.101288</td>\n",
       "      <td>-0.339846</td>\n",
       "      <td>0.167170</td>\n",
       "      <td>0.125895</td>\n",
       "      <td>-0.008983</td>\n",
       "      <td>0.014724</td>\n",
       "      <td>2.69</td>\n",
       "      <td>0</td>\n",
       "    </tr>\n",
       "    <tr>\n",
       "      <th>2</th>\n",
       "      <td>1.0</td>\n",
       "      <td>-1.358354</td>\n",
       "      <td>-1.340163</td>\n",
       "      <td>1.773209</td>\n",
       "      <td>0.379780</td>\n",
       "      <td>-0.503198</td>\n",
       "      <td>1.800499</td>\n",
       "      <td>0.791461</td>\n",
       "      <td>0.247676</td>\n",
       "      <td>-1.514654</td>\n",
       "      <td>...</td>\n",
       "      <td>0.247998</td>\n",
       "      <td>0.771679</td>\n",
       "      <td>0.909412</td>\n",
       "      <td>-0.689281</td>\n",
       "      <td>-0.327642</td>\n",
       "      <td>-0.139097</td>\n",
       "      <td>-0.055353</td>\n",
       "      <td>-0.059752</td>\n",
       "      <td>378.66</td>\n",
       "      <td>0</td>\n",
       "    </tr>\n",
       "    <tr>\n",
       "      <th>3</th>\n",
       "      <td>1.0</td>\n",
       "      <td>-0.966272</td>\n",
       "      <td>-0.185226</td>\n",
       "      <td>1.792993</td>\n",
       "      <td>-0.863291</td>\n",
       "      <td>-0.010309</td>\n",
       "      <td>1.247203</td>\n",
       "      <td>0.237609</td>\n",
       "      <td>0.377436</td>\n",
       "      <td>-1.387024</td>\n",
       "      <td>...</td>\n",
       "      <td>-0.108300</td>\n",
       "      <td>0.005274</td>\n",
       "      <td>-0.190321</td>\n",
       "      <td>-1.175575</td>\n",
       "      <td>0.647376</td>\n",
       "      <td>-0.221929</td>\n",
       "      <td>0.062723</td>\n",
       "      <td>0.061458</td>\n",
       "      <td>123.50</td>\n",
       "      <td>0</td>\n",
       "    </tr>\n",
       "    <tr>\n",
       "      <th>4</th>\n",
       "      <td>2.0</td>\n",
       "      <td>-1.158233</td>\n",
       "      <td>0.877737</td>\n",
       "      <td>1.548718</td>\n",
       "      <td>0.403034</td>\n",
       "      <td>-0.407193</td>\n",
       "      <td>0.095921</td>\n",
       "      <td>0.592941</td>\n",
       "      <td>-0.270533</td>\n",
       "      <td>0.817739</td>\n",
       "      <td>...</td>\n",
       "      <td>-0.009431</td>\n",
       "      <td>0.798278</td>\n",
       "      <td>-0.137458</td>\n",
       "      <td>0.141267</td>\n",
       "      <td>-0.206010</td>\n",
       "      <td>0.502292</td>\n",
       "      <td>0.219422</td>\n",
       "      <td>0.215153</td>\n",
       "      <td>69.99</td>\n",
       "      <td>0</td>\n",
       "    </tr>\n",
       "  </tbody>\n",
       "</table>\n",
       "<p>5 rows × 31 columns</p>\n",
       "</div>"
      ],
      "text/plain": [
       "   Time        V1        V2        V3        V4        V5        V6        V7  \\\n",
       "0   0.0 -1.359807 -0.072781  2.536347  1.378155 -0.338321  0.462388  0.239599   \n",
       "1   0.0  1.191857  0.266151  0.166480  0.448154  0.060018 -0.082361 -0.078803   \n",
       "2   1.0 -1.358354 -1.340163  1.773209  0.379780 -0.503198  1.800499  0.791461   \n",
       "3   1.0 -0.966272 -0.185226  1.792993 -0.863291 -0.010309  1.247203  0.237609   \n",
       "4   2.0 -1.158233  0.877737  1.548718  0.403034 -0.407193  0.095921  0.592941   \n",
       "\n",
       "         V8        V9  ...       V21       V22       V23       V24       V25  \\\n",
       "0  0.098698  0.363787  ... -0.018307  0.277838 -0.110474  0.066928  0.128539   \n",
       "1  0.085102 -0.255425  ... -0.225775 -0.638672  0.101288 -0.339846  0.167170   \n",
       "2  0.247676 -1.514654  ...  0.247998  0.771679  0.909412 -0.689281 -0.327642   \n",
       "3  0.377436 -1.387024  ... -0.108300  0.005274 -0.190321 -1.175575  0.647376   \n",
       "4 -0.270533  0.817739  ... -0.009431  0.798278 -0.137458  0.141267 -0.206010   \n",
       "\n",
       "        V26       V27       V28  Amount  Class  \n",
       "0 -0.189115  0.133558 -0.021053  149.62      0  \n",
       "1  0.125895 -0.008983  0.014724    2.69      0  \n",
       "2 -0.139097 -0.055353 -0.059752  378.66      0  \n",
       "3 -0.221929  0.062723  0.061458  123.50      0  \n",
       "4  0.502292  0.219422  0.215153   69.99      0  \n",
       "\n",
       "[5 rows x 31 columns]"
      ]
     },
     "execution_count": 102,
     "metadata": {},
     "output_type": "execute_result"
    }
   ],
   "source": [
    "# 로드한 데이터의 맨 윗 30개 행 확인하기\n",
    "df.head()"
   ]
  },
  {
   "cell_type": "code",
   "execution_count": 103,
   "metadata": {
    "id": "3AuxPJb7Hfrp"
   },
   "outputs": [
    {
     "data": {
      "text/plain": [
       "Time    0\n",
       "V1      0\n",
       "V2      0\n",
       "V3      0\n",
       "V4      0\n",
       "dtype: int64"
      ]
     },
     "execution_count": 103,
     "metadata": {},
     "output_type": "execute_result"
    }
   ],
   "source": [
    "# Missing 여부 확인하기\n",
    "df.isnull().sum().head()"
   ]
  },
  {
   "cell_type": "code",
   "execution_count": 104,
   "metadata": {},
   "outputs": [
    {
     "name": "stdout",
     "output_type": "stream",
     "text": [
      "정상 거래 비율 = 99.827%\n",
      "사기 탐지 = 0.173%\n"
     ]
    }
   ],
   "source": [
    "print(f'정상 거래 비율 = {round(df[\"Class\"].value_counts()[0]/len(df) * 100,3)}%')\n",
    "print(f'사기 탐지 = {round(df[\"Class\"].value_counts()[1]/len(df) * 100,3)}%')"
   ]
  },
  {
   "cell_type": "code",
   "execution_count": 105,
   "metadata": {
    "id": "b54qOaqrHfrq",
    "scrolled": true
   },
   "outputs": [
    {
     "name": "stdout",
     "output_type": "stream",
     "text": [
      "Target class is  0.1730 %\n"
     ]
    }
   ],
   "source": [
    "print('Target class is ', '{0:0.4f}'.format(round(df[\"Class\"].value_counts()[1]/len(df) * 100,3)), '%')"
   ]
  },
  {
   "cell_type": "markdown",
   "metadata": {},
   "source": [
    "- #### 사기 비율이 너무 적다."
   ]
  },
  {
   "cell_type": "markdown",
   "metadata": {
    "id": "M_vxcIZOHfrq"
   },
   "source": [
    "### 문제 02. 변수의 스케일 변환하기"
   ]
  },
  {
   "cell_type": "markdown",
   "metadata": {
    "id": "A_bkDNq4Hfrq"
   },
   "source": [
    "### 참고: scikit-learn이 제공하는 스케일러 (Review)\n",
    "\n",
    "scikit-learn에서 제공하는 피처 스케일러(scaler)\n",
    "- `StandardScaler`: 기본 스케일, 각 피처의 평균을 0, 표준편차를 1로 변환\n",
    "- `RobustScaler`: 위와 유사하지만 평균 대신 중간값(median)과 일분위, 삼분위값(quartile)을 사용하여 이상치 영향을 최소화\n",
    "- `MinMaxScaler`: 모든 피처의 최대치와 최소치가 각각 1, 0이 되도록 스케일 조정\n",
    "- `Normalizer`: 피처(컬럼)이 아니라 row마다 정규화되며, 유클리드 거리가 1이 되도록 데이터를 조정하여 빠르게 학습할 수 있게 함\n",
    "\n",
    "<p> 스케일 조정을 하는 이유는 데이터의 값이 너무 크거나 작을 때 학습이 제대로 되지 않을 수도 있기 때문입니다. <b> 또한 스케일의 영향이 절대적인 분류기(예: knn과 같은 거리기반 알고리즘)의 경우, 스케일 조정을 필수적으로 검토해야 합니다. </b>\n",
    "    \n",
    "<p> 반면 어떤 항목은 원본 데이터의 분포를 유지하는 것이 나을 수도 있습니다. 예를 들어, 데이터가 거의 한 곳에 집중되어 있는 feature를 표준화시켜 분포를 같게 만들었을 때, 작은 단위의 변화가 큰 차이를 나타내는 것처럼 학습될 수도 있습니다. 또한 스케일의 영향을 크게 받지 않는 분류기(예: 트리 기반 앙상블 알고리즘)를 사용할 경우에도 성능이 준수하게 나오거나 과대적합(overfitting)의 우려가 적다면 생략할 수도 있습니다.\n",
    "    \n",
    "<p> <b>스케일 조정시 유의해야할 점은 원본 데이터의 의미를 잃어버릴 수 있다는 것입니다.</b> 최종적으로 답을 구하는 것이 목적이 아니라 모델의 해석이나 향후 다른 데이터셋으로의 응용이 더 중요할 때 원 피처에 대한 설명력을 잃어버린다면 모델 개선이 어려울 수도 있습니다. 이 점을 함께 고려하시면 좋겠습니다."
   ]
  },
  {
   "cell_type": "code",
   "execution_count": 106,
   "metadata": {
    "id": "-ASxruUAHfrr"
   },
   "outputs": [],
   "source": [
    "# 데이터 스케일 조정하기\n",
    "from sklearn.preprocessing import StandardScaler, RobustScaler\n",
    "\n",
    "std_scaler =  StandardScaler()\n",
    "# robust == strong\n",
    "rob_scaler =  RobustScaler()\n",
    "\n",
    "df['scaled_amount'] = rob_scaler.fit_transform(df['Amount'].values.reshape(-1,1)) \n",
    "df['scaled_time'] = rob_scaler.fit_transform(df['Time'].values.reshape(-1,1)) \n",
    "\n",
    "# 원 데이터에서 Time 컬럼과 Amount 컬럼 제외하기\n",
    "df.drop(['Time','Amount'],axis=1, inplace=True)"
   ]
  },
  {
   "cell_type": "code",
   "execution_count": 107,
   "metadata": {
    "id": "w8bywfNRHfrr"
   },
   "outputs": [
    {
     "name": "stdout",
     "output_type": "stream",
     "text": [
      "0    1.783274\n",
      "1   -0.269825\n",
      "2    4.983721\n",
      "3    1.418291\n",
      "4    0.670579\n",
      "Name: scaled_amount, dtype: float64\n",
      "0   -0.994983\n",
      "1   -0.994983\n",
      "2   -0.994972\n",
      "3   -0.994972\n",
      "4   -0.994960\n",
      "Name: scaled_time, dtype: float64\n"
     ]
    },
    {
     "data": {
      "text/html": [
       "<div>\n",
       "<style scoped>\n",
       "    .dataframe tbody tr th:only-of-type {\n",
       "        vertical-align: middle;\n",
       "    }\n",
       "\n",
       "    .dataframe tbody tr th {\n",
       "        vertical-align: top;\n",
       "    }\n",
       "\n",
       "    .dataframe thead th {\n",
       "        text-align: right;\n",
       "    }\n",
       "</style>\n",
       "<table border=\"1\" class=\"dataframe\">\n",
       "  <thead>\n",
       "    <tr style=\"text-align: right;\">\n",
       "      <th></th>\n",
       "      <th>scaled_amount</th>\n",
       "      <th>scaled_time</th>\n",
       "      <th>V1</th>\n",
       "      <th>V2</th>\n",
       "      <th>V3</th>\n",
       "      <th>V4</th>\n",
       "      <th>V5</th>\n",
       "      <th>V6</th>\n",
       "      <th>V7</th>\n",
       "      <th>V8</th>\n",
       "      <th>...</th>\n",
       "      <th>V20</th>\n",
       "      <th>V21</th>\n",
       "      <th>V22</th>\n",
       "      <th>V23</th>\n",
       "      <th>V24</th>\n",
       "      <th>V25</th>\n",
       "      <th>V26</th>\n",
       "      <th>V27</th>\n",
       "      <th>V28</th>\n",
       "      <th>Class</th>\n",
       "    </tr>\n",
       "  </thead>\n",
       "  <tbody>\n",
       "    <tr>\n",
       "      <th>0</th>\n",
       "      <td>1.783274</td>\n",
       "      <td>-0.994983</td>\n",
       "      <td>-1.359807</td>\n",
       "      <td>-0.072781</td>\n",
       "      <td>2.536347</td>\n",
       "      <td>1.378155</td>\n",
       "      <td>-0.338321</td>\n",
       "      <td>0.462388</td>\n",
       "      <td>0.239599</td>\n",
       "      <td>0.098698</td>\n",
       "      <td>...</td>\n",
       "      <td>0.251412</td>\n",
       "      <td>-0.018307</td>\n",
       "      <td>0.277838</td>\n",
       "      <td>-0.110474</td>\n",
       "      <td>0.066928</td>\n",
       "      <td>0.128539</td>\n",
       "      <td>-0.189115</td>\n",
       "      <td>0.133558</td>\n",
       "      <td>-0.021053</td>\n",
       "      <td>0</td>\n",
       "    </tr>\n",
       "    <tr>\n",
       "      <th>1</th>\n",
       "      <td>-0.269825</td>\n",
       "      <td>-0.994983</td>\n",
       "      <td>1.191857</td>\n",
       "      <td>0.266151</td>\n",
       "      <td>0.166480</td>\n",
       "      <td>0.448154</td>\n",
       "      <td>0.060018</td>\n",
       "      <td>-0.082361</td>\n",
       "      <td>-0.078803</td>\n",
       "      <td>0.085102</td>\n",
       "      <td>...</td>\n",
       "      <td>-0.069083</td>\n",
       "      <td>-0.225775</td>\n",
       "      <td>-0.638672</td>\n",
       "      <td>0.101288</td>\n",
       "      <td>-0.339846</td>\n",
       "      <td>0.167170</td>\n",
       "      <td>0.125895</td>\n",
       "      <td>-0.008983</td>\n",
       "      <td>0.014724</td>\n",
       "      <td>0</td>\n",
       "    </tr>\n",
       "    <tr>\n",
       "      <th>2</th>\n",
       "      <td>4.983721</td>\n",
       "      <td>-0.994972</td>\n",
       "      <td>-1.358354</td>\n",
       "      <td>-1.340163</td>\n",
       "      <td>1.773209</td>\n",
       "      <td>0.379780</td>\n",
       "      <td>-0.503198</td>\n",
       "      <td>1.800499</td>\n",
       "      <td>0.791461</td>\n",
       "      <td>0.247676</td>\n",
       "      <td>...</td>\n",
       "      <td>0.524980</td>\n",
       "      <td>0.247998</td>\n",
       "      <td>0.771679</td>\n",
       "      <td>0.909412</td>\n",
       "      <td>-0.689281</td>\n",
       "      <td>-0.327642</td>\n",
       "      <td>-0.139097</td>\n",
       "      <td>-0.055353</td>\n",
       "      <td>-0.059752</td>\n",
       "      <td>0</td>\n",
       "    </tr>\n",
       "    <tr>\n",
       "      <th>3</th>\n",
       "      <td>1.418291</td>\n",
       "      <td>-0.994972</td>\n",
       "      <td>-0.966272</td>\n",
       "      <td>-0.185226</td>\n",
       "      <td>1.792993</td>\n",
       "      <td>-0.863291</td>\n",
       "      <td>-0.010309</td>\n",
       "      <td>1.247203</td>\n",
       "      <td>0.237609</td>\n",
       "      <td>0.377436</td>\n",
       "      <td>...</td>\n",
       "      <td>-0.208038</td>\n",
       "      <td>-0.108300</td>\n",
       "      <td>0.005274</td>\n",
       "      <td>-0.190321</td>\n",
       "      <td>-1.175575</td>\n",
       "      <td>0.647376</td>\n",
       "      <td>-0.221929</td>\n",
       "      <td>0.062723</td>\n",
       "      <td>0.061458</td>\n",
       "      <td>0</td>\n",
       "    </tr>\n",
       "    <tr>\n",
       "      <th>4</th>\n",
       "      <td>0.670579</td>\n",
       "      <td>-0.994960</td>\n",
       "      <td>-1.158233</td>\n",
       "      <td>0.877737</td>\n",
       "      <td>1.548718</td>\n",
       "      <td>0.403034</td>\n",
       "      <td>-0.407193</td>\n",
       "      <td>0.095921</td>\n",
       "      <td>0.592941</td>\n",
       "      <td>-0.270533</td>\n",
       "      <td>...</td>\n",
       "      <td>0.408542</td>\n",
       "      <td>-0.009431</td>\n",
       "      <td>0.798278</td>\n",
       "      <td>-0.137458</td>\n",
       "      <td>0.141267</td>\n",
       "      <td>-0.206010</td>\n",
       "      <td>0.502292</td>\n",
       "      <td>0.219422</td>\n",
       "      <td>0.215153</td>\n",
       "      <td>0</td>\n",
       "    </tr>\n",
       "  </tbody>\n",
       "</table>\n",
       "<p>5 rows × 31 columns</p>\n",
       "</div>"
      ],
      "text/plain": [
       "   scaled_amount  scaled_time        V1        V2        V3        V4  \\\n",
       "0       1.783274    -0.994983 -1.359807 -0.072781  2.536347  1.378155   \n",
       "1      -0.269825    -0.994983  1.191857  0.266151  0.166480  0.448154   \n",
       "2       4.983721    -0.994972 -1.358354 -1.340163  1.773209  0.379780   \n",
       "3       1.418291    -0.994972 -0.966272 -0.185226  1.792993 -0.863291   \n",
       "4       0.670579    -0.994960 -1.158233  0.877737  1.548718  0.403034   \n",
       "\n",
       "         V5        V6        V7        V8  ...       V20       V21       V22  \\\n",
       "0 -0.338321  0.462388  0.239599  0.098698  ...  0.251412 -0.018307  0.277838   \n",
       "1  0.060018 -0.082361 -0.078803  0.085102  ... -0.069083 -0.225775 -0.638672   \n",
       "2 -0.503198  1.800499  0.791461  0.247676  ...  0.524980  0.247998  0.771679   \n",
       "3 -0.010309  1.247203  0.237609  0.377436  ... -0.208038 -0.108300  0.005274   \n",
       "4 -0.407193  0.095921  0.592941 -0.270533  ...  0.408542 -0.009431  0.798278   \n",
       "\n",
       "        V23       V24       V25       V26       V27       V28  Class  \n",
       "0 -0.110474  0.066928  0.128539 -0.189115  0.133558 -0.021053      0  \n",
       "1  0.101288 -0.339846  0.167170  0.125895 -0.008983  0.014724      0  \n",
       "2  0.909412 -0.689281 -0.327642 -0.139097 -0.055353 -0.059752      0  \n",
       "3 -0.190321 -1.175575  0.647376 -0.221929  0.062723  0.061458      0  \n",
       "4 -0.137458  0.141267 -0.206010  0.502292  0.219422  0.215153      0  \n",
       "\n",
       "[5 rows x 31 columns]"
      ]
     },
     "execution_count": 107,
     "metadata": {},
     "output_type": "execute_result"
    }
   ],
   "source": [
    "# 스케일 조정된 컬럼 추가하기\n",
    "scaled_amount = df['scaled_amount']\n",
    "scaled_time = df['scaled_time']\n",
    "\n",
    "df.drop(['scaled_amount', 'scaled_time'], axis=1, inplace=True)\n",
    "df.insert(0, 'scaled_amount', scaled_amount) # 컬럼 0에자리에 데이터입력\n",
    "df.insert(1, 'scaled_time', scaled_time)     #컬럼 1에 자리에 데이터 입력\n",
    "\n",
    "## 스케일 조정된 데이터 확인하기\n",
    "print(scaled_amount.head())\n",
    "print(scaled_time.head())\n",
    "df.head()"
   ]
  },
  {
   "cell_type": "markdown",
   "metadata": {
    "id": "hTEH_USGHfrs"
   },
   "source": [
    "### 문제 03. 샘플 데이터 나누기"
   ]
  },
  {
   "cell_type": "code",
   "execution_count": 108,
   "metadata": {
    "id": "VZGSLT-THfrs"
   },
   "outputs": [
    {
     "name": "stdout",
     "output_type": "stream",
     "text": [
      "train [    0     1     2 ... 57017 57018 57019], test [    0     1     2 ... 57017 57018 57019]\n",
      "train [ 30473  30496  31002 ... 113964 113965 113966], test [ 30473  30496  31002 ... 113964 113965 113966]\n",
      "train [ 81609  82400  83053 ... 170946 170947 170948], test [ 81609  82400  83053 ... 170946 170947 170948]\n",
      "train [150654 150660 150661 ... 227866 227867 227868], test [150654 150660 150661 ... 227866 227867 227868]\n",
      "train [212516 212644 213092 ... 284804 284805 284806], test [212516 212644 213092 ... 284804 284805 284806]\n"
     ]
    }
   ],
   "source": [
    "# X와 y 데이터 셋 만들기\n",
    "from sklearn.model_selection import train_test_split\n",
    "from sklearn.model_selection import StratifiedShuffleSplit  \n",
    "# 이처럼 이상치가 많이 없는(사기 비율이 매우 적다) 데이터 셋을 분류할때는  StratifiedShuffleSplit가 효과적이다.\n",
    "from sklearn.model_selection import KFold, StratifiedKFold\n",
    "\n",
    "X = df.drop('Class', axis=1)\n",
    "y = df['Class']\n",
    "\n",
    "# 층위 샘플링으로 데이터 나누기\n",
    "sss = StratifiedKFold(n_splits=5, random_state=None, shuffle=False)\n",
    "\n",
    "for train_index, test_index in sss.split(X, y):\n",
    "        print('train {}, test {}'.format(test_index,test_index))\n",
    "        X_train, X_test = X.iloc[train_index],X.iloc[test_index]\n",
    "        y_train, y_train = y.iloc[train_index],y.iloc[test_index]\n",
    "        \n",
    "\n",
    "  # 채워주세요\n"
   ]
  },
  {
   "cell_type": "code",
   "execution_count": 109,
   "metadata": {},
   "outputs": [
    {
     "data": {
      "text/html": [
       "<div>\n",
       "<style scoped>\n",
       "    .dataframe tbody tr th:only-of-type {\n",
       "        vertical-align: middle;\n",
       "    }\n",
       "\n",
       "    .dataframe tbody tr th {\n",
       "        vertical-align: top;\n",
       "    }\n",
       "\n",
       "    .dataframe thead th {\n",
       "        text-align: right;\n",
       "    }\n",
       "</style>\n",
       "<table border=\"1\" class=\"dataframe\">\n",
       "  <thead>\n",
       "    <tr style=\"text-align: right;\">\n",
       "      <th></th>\n",
       "      <th>scaled_amount</th>\n",
       "      <th>scaled_time</th>\n",
       "      <th>V1</th>\n",
       "      <th>V2</th>\n",
       "      <th>V3</th>\n",
       "      <th>V4</th>\n",
       "      <th>V5</th>\n",
       "      <th>V6</th>\n",
       "      <th>V7</th>\n",
       "      <th>V8</th>\n",
       "      <th>...</th>\n",
       "      <th>V20</th>\n",
       "      <th>V21</th>\n",
       "      <th>V22</th>\n",
       "      <th>V23</th>\n",
       "      <th>V24</th>\n",
       "      <th>V25</th>\n",
       "      <th>V26</th>\n",
       "      <th>V27</th>\n",
       "      <th>V28</th>\n",
       "      <th>Class</th>\n",
       "    </tr>\n",
       "  </thead>\n",
       "  <tbody>\n",
       "    <tr>\n",
       "      <th>219025</th>\n",
       "      <td>-0.244673</td>\n",
       "      <td>0.668159</td>\n",
       "      <td>0.114965</td>\n",
       "      <td>0.766762</td>\n",
       "      <td>-0.494132</td>\n",
       "      <td>0.116772</td>\n",
       "      <td>0.868169</td>\n",
       "      <td>-0.477982</td>\n",
       "      <td>0.438496</td>\n",
       "      <td>0.063073</td>\n",
       "      <td>...</td>\n",
       "      <td>0.062199</td>\n",
       "      <td>-0.284413</td>\n",
       "      <td>-0.706865</td>\n",
       "      <td>0.131405</td>\n",
       "      <td>0.600742</td>\n",
       "      <td>-0.604264</td>\n",
       "      <td>0.262938</td>\n",
       "      <td>0.099145</td>\n",
       "      <td>0.010810</td>\n",
       "      <td>1</td>\n",
       "    </tr>\n",
       "    <tr>\n",
       "      <th>139267</th>\n",
       "      <td>0.111786</td>\n",
       "      <td>-0.018903</td>\n",
       "      <td>-0.933927</td>\n",
       "      <td>0.056716</td>\n",
       "      <td>1.995246</td>\n",
       "      <td>-0.775301</td>\n",
       "      <td>-0.134436</td>\n",
       "      <td>-1.464158</td>\n",
       "      <td>0.260727</td>\n",
       "      <td>0.045247</td>\n",
       "      <td>...</td>\n",
       "      <td>-0.032280</td>\n",
       "      <td>-0.102207</td>\n",
       "      <td>-0.673352</td>\n",
       "      <td>0.192986</td>\n",
       "      <td>0.669857</td>\n",
       "      <td>-0.503388</td>\n",
       "      <td>0.566288</td>\n",
       "      <td>-0.029985</td>\n",
       "      <td>0.116179</td>\n",
       "      <td>0</td>\n",
       "    </tr>\n",
       "    <tr>\n",
       "      <th>143335</th>\n",
       "      <td>3.226717</td>\n",
       "      <td>0.006967</td>\n",
       "      <td>-6.713407</td>\n",
       "      <td>3.921104</td>\n",
       "      <td>-9.746678</td>\n",
       "      <td>5.148263</td>\n",
       "      <td>-5.151563</td>\n",
       "      <td>-2.099389</td>\n",
       "      <td>-5.937767</td>\n",
       "      <td>3.578780</td>\n",
       "      <td>...</td>\n",
       "      <td>0.135711</td>\n",
       "      <td>0.954272</td>\n",
       "      <td>-0.451086</td>\n",
       "      <td>0.127214</td>\n",
       "      <td>-0.339450</td>\n",
       "      <td>0.394096</td>\n",
       "      <td>1.075295</td>\n",
       "      <td>1.649906</td>\n",
       "      <td>-0.394905</td>\n",
       "      <td>1</td>\n",
       "    </tr>\n",
       "    <tr>\n",
       "      <th>268831</th>\n",
       "      <td>-0.028645</td>\n",
       "      <td>0.924705</td>\n",
       "      <td>0.309445</td>\n",
       "      <td>-0.154803</td>\n",
       "      <td>0.506564</td>\n",
       "      <td>-1.958505</td>\n",
       "      <td>-0.200893</td>\n",
       "      <td>-0.203742</td>\n",
       "      <td>-0.016888</td>\n",
       "      <td>0.163345</td>\n",
       "      <td>...</td>\n",
       "      <td>-0.027218</td>\n",
       "      <td>-0.159451</td>\n",
       "      <td>-0.689214</td>\n",
       "      <td>0.316111</td>\n",
       "      <td>0.607498</td>\n",
       "      <td>-0.811735</td>\n",
       "      <td>-0.795314</td>\n",
       "      <td>0.016527</td>\n",
       "      <td>0.002199</td>\n",
       "      <td>0</td>\n",
       "    </tr>\n",
       "    <tr>\n",
       "      <th>101955</th>\n",
       "      <td>0.391253</td>\n",
       "      <td>-0.196184</td>\n",
       "      <td>0.976833</td>\n",
       "      <td>-0.664823</td>\n",
       "      <td>1.866841</td>\n",
       "      <td>1.662617</td>\n",
       "      <td>-1.416433</td>\n",
       "      <td>1.170487</td>\n",
       "      <td>-1.333644</td>\n",
       "      <td>0.570797</td>\n",
       "      <td>...</td>\n",
       "      <td>-0.083294</td>\n",
       "      <td>0.132579</td>\n",
       "      <td>0.771115</td>\n",
       "      <td>-0.241966</td>\n",
       "      <td>0.062847</td>\n",
       "      <td>0.567334</td>\n",
       "      <td>-0.098903</td>\n",
       "      <td>0.108052</td>\n",
       "      <td>0.034390</td>\n",
       "      <td>0</td>\n",
       "    </tr>\n",
       "  </tbody>\n",
       "</table>\n",
       "<p>5 rows × 31 columns</p>\n",
       "</div>"
      ],
      "text/plain": [
       "        scaled_amount  scaled_time        V1        V2        V3        V4  \\\n",
       "219025      -0.244673     0.668159  0.114965  0.766762 -0.494132  0.116772   \n",
       "139267       0.111786    -0.018903 -0.933927  0.056716  1.995246 -0.775301   \n",
       "143335       3.226717     0.006967 -6.713407  3.921104 -9.746678  5.148263   \n",
       "268831      -0.028645     0.924705  0.309445 -0.154803  0.506564 -1.958505   \n",
       "101955       0.391253    -0.196184  0.976833 -0.664823  1.866841  1.662617   \n",
       "\n",
       "              V5        V6        V7        V8  ...       V20       V21  \\\n",
       "219025  0.868169 -0.477982  0.438496  0.063073  ...  0.062199 -0.284413   \n",
       "139267 -0.134436 -1.464158  0.260727  0.045247  ... -0.032280 -0.102207   \n",
       "143335 -5.151563 -2.099389 -5.937767  3.578780  ...  0.135711  0.954272   \n",
       "268831 -0.200893 -0.203742 -0.016888  0.163345  ... -0.027218 -0.159451   \n",
       "101955 -1.416433  1.170487 -1.333644  0.570797  ... -0.083294  0.132579   \n",
       "\n",
       "             V22       V23       V24       V25       V26       V27       V28  \\\n",
       "219025 -0.706865  0.131405  0.600742 -0.604264  0.262938  0.099145  0.010810   \n",
       "139267 -0.673352  0.192986  0.669857 -0.503388  0.566288 -0.029985  0.116179   \n",
       "143335 -0.451086  0.127214 -0.339450  0.394096  1.075295  1.649906 -0.394905   \n",
       "268831 -0.689214  0.316111  0.607498 -0.811735 -0.795314  0.016527  0.002199   \n",
       "101955  0.771115 -0.241966  0.062847  0.567334 -0.098903  0.108052  0.034390   \n",
       "\n",
       "        Class  \n",
       "219025      1  \n",
       "139267      0  \n",
       "143335      1  \n",
       "268831      0  \n",
       "101955      0  \n",
       "\n",
       "[5 rows x 31 columns]"
      ]
     },
     "execution_count": 109,
     "metadata": {},
     "output_type": "execute_result"
    }
   ],
   "source": [
    "# 클래스의 skew 정도가 매우 높기 때문에 클래스간 분포를 맞추는 것이 필요합니다.\n",
    "# subsample 구축 전 셔플링을 통해 레이블이 한쪽에 몰려있지 않도록 하겠습니다.\n",
    "df = df.sample(frac=1)\n",
    "# 데이터 준비\n",
    "fraud_df = df.loc[df['Class'] == 1]\n",
    "non_fraud_df = df.loc[df['Class'] == 0][:492]\n",
    "normal_distributed_df = pd.concat([fraud_df, non_fraud_df])\n",
    "# 데이터 셔플하기\n",
    "new_df = normal_distributed_df.sample(frac=1, random_state=0)\n",
    "# 셔플한 새로운 데이터 셋 확인\n",
    "new_df.head()"
   ]
  },
  {
   "cell_type": "code",
   "execution_count": 110,
   "metadata": {
    "scrolled": false
   },
   "outputs": [
    {
     "name": "stdout",
     "output_type": "stream",
     "text": [
      "        scaled_amount  scaled_time        V1        V2        V3        V4  \\\n",
      "208099       0.012716     0.614199 -0.634800  1.497741 -0.393760  0.753446   \n",
      "1171        -0.275554    -0.984269 -0.416621  1.019731  1.337170 -0.203938   \n",
      "104844      -0.269825    -0.181381  1.275341  0.549224 -0.099111  1.101659   \n",
      "220170       2.076853     0.673904 -5.121007 -5.152164 -0.373245 -1.529093   \n",
      "68173        0.530846    -0.373900 -1.090235  0.884093  0.971063 -1.142032   \n",
      "\n",
      "              V5        V6        V7        V8  ...       V20       V21  \\\n",
      "208099  0.836118 -0.303326  1.192158  0.014901  ... -0.047503  0.153316   \n",
      "1171    0.389846 -0.131373  0.644427  0.081807  ...  0.103745 -0.229379   \n",
      "104844  0.097718 -1.177298  0.601404 -0.396054  ... -0.107837  0.011755   \n",
      "220170  3.817123 -0.260070  0.123406 -0.181339  ... -1.396933 -0.253395   \n",
      "68173  -0.052264  0.183533  0.388144  0.702813  ...  0.021644  0.134997   \n",
      "\n",
      "             V22       V23       V24       V25       V26       V27       V28  \\\n",
      "208099  0.710225 -0.295913 -0.387473  0.008606 -0.420669 -0.108384 -0.069756   \n",
      "1171   -0.540069 -0.060893 -0.434687 -0.187677  0.130568  0.284018  0.113227   \n",
      "104844  0.123862 -0.154609  0.425864  0.876028 -0.298940 -0.003530  0.012668   \n",
      "220170  1.122424  1.542629 -0.881010  1.622578  0.159965 -0.402933  0.827223   \n",
      "68173   0.273749  0.129253 -0.231025 -0.425099  0.802142  0.148395  0.104467   \n",
      "\n",
      "        Class  \n",
      "208099      0  \n",
      "1171        0  \n",
      "104844      0  \n",
      "220170      0  \n",
      "68173       0  \n",
      "\n",
      "[5 rows x 31 columns]\n",
      "<class 'pandas.core.frame.DataFrame'>\n",
      "Int64Index: 284807 entries, 208099 to 233905\n",
      "Data columns (total 31 columns):\n",
      " #   Column         Non-Null Count   Dtype  \n",
      "---  ------         --------------   -----  \n",
      " 0   scaled_amount  284807 non-null  float64\n",
      " 1   scaled_time    284807 non-null  float64\n",
      " 2   V1             284807 non-null  float64\n",
      " 3   V2             284807 non-null  float64\n",
      " 4   V3             284807 non-null  float64\n",
      " 5   V4             284807 non-null  float64\n",
      " 6   V5             284807 non-null  float64\n",
      " 7   V6             284807 non-null  float64\n",
      " 8   V7             284807 non-null  float64\n",
      " 9   V8             284807 non-null  float64\n",
      " 10  V9             284807 non-null  float64\n",
      " 11  V10            284807 non-null  float64\n",
      " 12  V11            284807 non-null  float64\n",
      " 13  V12            284807 non-null  float64\n",
      " 14  V13            284807 non-null  float64\n",
      " 15  V14            284807 non-null  float64\n",
      " 16  V15            284807 non-null  float64\n",
      " 17  V16            284807 non-null  float64\n",
      " 18  V17            284807 non-null  float64\n",
      " 19  V18            284807 non-null  float64\n",
      " 20  V19            284807 non-null  float64\n",
      " 21  V20            284807 non-null  float64\n",
      " 22  V21            284807 non-null  float64\n",
      " 23  V22            284807 non-null  float64\n",
      " 24  V23            284807 non-null  float64\n",
      " 25  V24            284807 non-null  float64\n",
      " 26  V25            284807 non-null  float64\n",
      " 27  V26            284807 non-null  float64\n",
      " 28  V27            284807 non-null  float64\n",
      " 29  V28            284807 non-null  float64\n",
      " 30  Class          284807 non-null  int64  \n",
      "dtypes: float64(30), int64(1)\n",
      "memory usage: 69.5 MB\n",
      "None\n",
      "-====== = = = = = = = =\n",
      "        scaled_amount  scaled_time        V1        V2        V3        V4  \\\n",
      "154693      -0.293440     0.210611 -2.488363  4.359019 -7.776410  5.364027   \n",
      "149600       3.342695     0.080617 -5.100256  3.633442 -3.843919  0.183208   \n",
      "81609       19.109341    -0.301707 -2.326922 -3.348439 -3.513408  3.175060   \n",
      "189878      -0.293440     0.515784 -5.313774  2.664274 -4.250707  0.394707   \n",
      "261925       1.872424     0.887593 -2.783865  1.596824 -2.084844  2.512986   \n",
      "\n",
      "              V5        V6        V7        V8  ...       V20       V21  \\\n",
      "154693 -1.823877 -2.445140 -4.964221  1.484890  ...  0.792275  1.325672   \n",
      "149600 -1.183997  1.602139 -3.005953 -8.645038  ... -2.806302  8.280439   \n",
      "81609  -2.815137 -0.203363 -0.892144  0.333226  ...  3.209171  1.226648   \n",
      "189878 -0.391383  0.683526 -5.133671 -7.907790  ... -2.642902  8.664662   \n",
      "261925 -1.446749 -0.828496 -0.732262 -0.203329  ... -0.515001  0.203563   \n",
      "\n",
      "             V22       V23       V24       V25       V26       V27       V28  \\\n",
      "154693  1.021226 -0.266476 -0.370880  0.365535  0.081372  0.184983 -0.211582   \n",
      "149600 -2.797150  1.090707 -0.159260  0.532156 -0.497126  0.943622  0.553581   \n",
      "81609  -0.695902 -1.478490 -0.061553  0.236155  0.531911  0.302324  0.536375   \n",
      "189878 -2.716383  0.483559  0.079235  0.311065  0.555544  0.176740  0.362907   \n",
      "261925  0.293268  0.199568  0.146868  0.163602 -0.624085 -1.333100  0.428634   \n",
      "\n",
      "        Class  \n",
      "154693      1  \n",
      "149600      1  \n",
      "81609       1  \n",
      "189878      1  \n",
      "261925      1  \n",
      "\n",
      "[5 rows x 31 columns]\n",
      "<class 'pandas.core.frame.DataFrame'>\n",
      "Int64Index: 492 entries, 154693 to 64460\n",
      "Data columns (total 31 columns):\n",
      " #   Column         Non-Null Count  Dtype  \n",
      "---  ------         --------------  -----  \n",
      " 0   scaled_amount  492 non-null    float64\n",
      " 1   scaled_time    492 non-null    float64\n",
      " 2   V1             492 non-null    float64\n",
      " 3   V2             492 non-null    float64\n",
      " 4   V3             492 non-null    float64\n",
      " 5   V4             492 non-null    float64\n",
      " 6   V5             492 non-null    float64\n",
      " 7   V6             492 non-null    float64\n",
      " 8   V7             492 non-null    float64\n",
      " 9   V8             492 non-null    float64\n",
      " 10  V9             492 non-null    float64\n",
      " 11  V10            492 non-null    float64\n",
      " 12  V11            492 non-null    float64\n",
      " 13  V12            492 non-null    float64\n",
      " 14  V13            492 non-null    float64\n",
      " 15  V14            492 non-null    float64\n",
      " 16  V15            492 non-null    float64\n",
      " 17  V16            492 non-null    float64\n",
      " 18  V17            492 non-null    float64\n",
      " 19  V18            492 non-null    float64\n",
      " 20  V19            492 non-null    float64\n",
      " 21  V20            492 non-null    float64\n",
      " 22  V21            492 non-null    float64\n",
      " 23  V22            492 non-null    float64\n",
      " 24  V23            492 non-null    float64\n",
      " 25  V24            492 non-null    float64\n",
      " 26  V25            492 non-null    float64\n",
      " 27  V26            492 non-null    float64\n",
      " 28  V27            492 non-null    float64\n",
      " 29  V28            492 non-null    float64\n",
      " 30  Class          492 non-null    int64  \n",
      "dtypes: float64(30), int64(1)\n",
      "memory usage: 123.0 KB\n",
      "None\n",
      "-====== = = = = = = = =\n",
      "        scaled_amount  scaled_time        V1        V2        V3        V4  \\\n",
      "208099       0.012716     0.614199 -0.634800  1.497741 -0.393760  0.753446   \n",
      "1171        -0.275554    -0.984269 -0.416621  1.019731  1.337170 -0.203938   \n",
      "104844      -0.269825    -0.181381  1.275341  0.549224 -0.099111  1.101659   \n",
      "220170       2.076853     0.673904 -5.121007 -5.152164 -0.373245 -1.529093   \n",
      "68173        0.530846    -0.373900 -1.090235  0.884093  0.971063 -1.142032   \n",
      "\n",
      "              V5        V6        V7        V8  ...       V20       V21  \\\n",
      "208099  0.836118 -0.303326  1.192158  0.014901  ... -0.047503  0.153316   \n",
      "1171    0.389846 -0.131373  0.644427  0.081807  ...  0.103745 -0.229379   \n",
      "104844  0.097718 -1.177298  0.601404 -0.396054  ... -0.107837  0.011755   \n",
      "220170  3.817123 -0.260070  0.123406 -0.181339  ... -1.396933 -0.253395   \n",
      "68173  -0.052264  0.183533  0.388144  0.702813  ...  0.021644  0.134997   \n",
      "\n",
      "             V22       V23       V24       V25       V26       V27       V28  \\\n",
      "208099  0.710225 -0.295913 -0.387473  0.008606 -0.420669 -0.108384 -0.069756   \n",
      "1171   -0.540069 -0.060893 -0.434687 -0.187677  0.130568  0.284018  0.113227   \n",
      "104844  0.123862 -0.154609  0.425864  0.876028 -0.298940 -0.003530  0.012668   \n",
      "220170  1.122424  1.542629 -0.881010  1.622578  0.159965 -0.402933  0.827223   \n",
      "68173   0.273749  0.129253 -0.231025 -0.425099  0.802142  0.148395  0.104467   \n",
      "\n",
      "        Class  \n",
      "208099      0  \n",
      "1171        0  \n",
      "104844      0  \n",
      "220170      0  \n",
      "68173       0  \n",
      "\n",
      "[5 rows x 31 columns]\n",
      "<class 'pandas.core.frame.DataFrame'>\n",
      "Int64Index: 492 entries, 208099 to 1014\n",
      "Data columns (total 31 columns):\n",
      " #   Column         Non-Null Count  Dtype  \n",
      "---  ------         --------------  -----  \n",
      " 0   scaled_amount  492 non-null    float64\n",
      " 1   scaled_time    492 non-null    float64\n",
      " 2   V1             492 non-null    float64\n",
      " 3   V2             492 non-null    float64\n",
      " 4   V3             492 non-null    float64\n",
      " 5   V4             492 non-null    float64\n",
      " 6   V5             492 non-null    float64\n",
      " 7   V6             492 non-null    float64\n",
      " 8   V7             492 non-null    float64\n",
      " 9   V8             492 non-null    float64\n",
      " 10  V9             492 non-null    float64\n",
      " 11  V10            492 non-null    float64\n",
      " 12  V11            492 non-null    float64\n",
      " 13  V12            492 non-null    float64\n",
      " 14  V13            492 non-null    float64\n",
      " 15  V14            492 non-null    float64\n",
      " 16  V15            492 non-null    float64\n",
      " 17  V16            492 non-null    float64\n",
      " 18  V17            492 non-null    float64\n",
      " 19  V18            492 non-null    float64\n",
      " 20  V19            492 non-null    float64\n",
      " 21  V20            492 non-null    float64\n",
      " 22  V21            492 non-null    float64\n",
      " 23  V22            492 non-null    float64\n",
      " 24  V23            492 non-null    float64\n",
      " 25  V24            492 non-null    float64\n",
      " 26  V25            492 non-null    float64\n",
      " 27  V26            492 non-null    float64\n",
      " 28  V27            492 non-null    float64\n",
      " 29  V28            492 non-null    float64\n",
      " 30  Class          492 non-null    int64  \n",
      "dtypes: float64(30), int64(1)\n",
      "memory usage: 123.0 KB\n",
      "None\n",
      "-====== = = = = = = = =\n",
      "        scaled_amount  scaled_time        V1        V2        V3        V4  \\\n",
      "154693      -0.293440     0.210611 -2.488363  4.359019 -7.776410  5.364027   \n",
      "149600       3.342695     0.080617 -5.100256  3.633442 -3.843919  0.183208   \n",
      "81609       19.109341    -0.301707 -2.326922 -3.348439 -3.513408  3.175060   \n",
      "189878      -0.293440     0.515784 -5.313774  2.664274 -4.250707  0.394707   \n",
      "261925       1.872424     0.887593 -2.783865  1.596824 -2.084844  2.512986   \n",
      "\n",
      "              V5        V6        V7        V8  ...       V20       V21  \\\n",
      "154693 -1.823877 -2.445140 -4.964221  1.484890  ...  0.792275  1.325672   \n",
      "149600 -1.183997  1.602139 -3.005953 -8.645038  ... -2.806302  8.280439   \n",
      "81609  -2.815137 -0.203363 -0.892144  0.333226  ...  3.209171  1.226648   \n",
      "189878 -0.391383  0.683526 -5.133671 -7.907790  ... -2.642902  8.664662   \n",
      "261925 -1.446749 -0.828496 -0.732262 -0.203329  ... -0.515001  0.203563   \n",
      "\n",
      "             V22       V23       V24       V25       V26       V27       V28  \\\n",
      "154693  1.021226 -0.266476 -0.370880  0.365535  0.081372  0.184983 -0.211582   \n",
      "149600 -2.797150  1.090707 -0.159260  0.532156 -0.497126  0.943622  0.553581   \n",
      "81609  -0.695902 -1.478490 -0.061553  0.236155  0.531911  0.302324  0.536375   \n",
      "189878 -2.716383  0.483559  0.079235  0.311065  0.555544  0.176740  0.362907   \n",
      "261925  0.293268  0.199568  0.146868  0.163602 -0.624085 -1.333100  0.428634   \n",
      "\n",
      "        Class  \n",
      "154693      1  \n",
      "149600      1  \n",
      "81609       1  \n",
      "189878      1  \n",
      "261925      1  \n",
      "\n",
      "[5 rows x 31 columns]\n",
      "<class 'pandas.core.frame.DataFrame'>\n",
      "Int64Index: 984 entries, 154693 to 1014\n",
      "Data columns (total 31 columns):\n",
      " #   Column         Non-Null Count  Dtype  \n",
      "---  ------         --------------  -----  \n",
      " 0   scaled_amount  984 non-null    float64\n",
      " 1   scaled_time    984 non-null    float64\n",
      " 2   V1             984 non-null    float64\n",
      " 3   V2             984 non-null    float64\n",
      " 4   V3             984 non-null    float64\n",
      " 5   V4             984 non-null    float64\n",
      " 6   V5             984 non-null    float64\n",
      " 7   V6             984 non-null    float64\n",
      " 8   V7             984 non-null    float64\n",
      " 9   V8             984 non-null    float64\n",
      " 10  V9             984 non-null    float64\n",
      " 11  V10            984 non-null    float64\n",
      " 12  V11            984 non-null    float64\n",
      " 13  V12            984 non-null    float64\n",
      " 14  V13            984 non-null    float64\n",
      " 15  V14            984 non-null    float64\n",
      " 16  V15            984 non-null    float64\n",
      " 17  V16            984 non-null    float64\n",
      " 18  V17            984 non-null    float64\n",
      " 19  V18            984 non-null    float64\n",
      " 20  V19            984 non-null    float64\n",
      " 21  V20            984 non-null    float64\n",
      " 22  V21            984 non-null    float64\n",
      " 23  V22            984 non-null    float64\n",
      " 24  V23            984 non-null    float64\n",
      " 25  V24            984 non-null    float64\n",
      " 26  V25            984 non-null    float64\n",
      " 27  V26            984 non-null    float64\n",
      " 28  V27            984 non-null    float64\n",
      " 29  V28            984 non-null    float64\n",
      " 30  Class          984 non-null    int64  \n",
      "dtypes: float64(30), int64(1)\n",
      "memory usage: 246.0 KB\n",
      "None\n",
      "-====== = = = = = = = =\n",
      "        scaled_amount  scaled_time        V1        V2        V3        V4  \\\n",
      "219025      -0.244673     0.668159  0.114965  0.766762 -0.494132  0.116772   \n",
      "139267       0.111786    -0.018903 -0.933927  0.056716  1.995246 -0.775301   \n",
      "143335       3.226717     0.006967 -6.713407  3.921104 -9.746678  5.148263   \n",
      "268831      -0.028645     0.924705  0.309445 -0.154803  0.506564 -1.958505   \n",
      "101955       0.391253    -0.196184  0.976833 -0.664823  1.866841  1.662617   \n",
      "\n",
      "              V5        V6        V7        V8  ...       V20       V21  \\\n",
      "219025  0.868169 -0.477982  0.438496  0.063073  ...  0.062199 -0.284413   \n",
      "139267 -0.134436 -1.464158  0.260727  0.045247  ... -0.032280 -0.102207   \n",
      "143335 -5.151563 -2.099389 -5.937767  3.578780  ...  0.135711  0.954272   \n",
      "268831 -0.200893 -0.203742 -0.016888  0.163345  ... -0.027218 -0.159451   \n",
      "101955 -1.416433  1.170487 -1.333644  0.570797  ... -0.083294  0.132579   \n",
      "\n",
      "             V22       V23       V24       V25       V26       V27       V28  \\\n",
      "219025 -0.706865  0.131405  0.600742 -0.604264  0.262938  0.099145  0.010810   \n",
      "139267 -0.673352  0.192986  0.669857 -0.503388  0.566288 -0.029985  0.116179   \n",
      "143335 -0.451086  0.127214 -0.339450  0.394096  1.075295  1.649906 -0.394905   \n",
      "268831 -0.689214  0.316111  0.607498 -0.811735 -0.795314  0.016527  0.002199   \n",
      "101955  0.771115 -0.241966  0.062847  0.567334 -0.098903  0.108052  0.034390   \n",
      "\n",
      "        Class  \n",
      "219025      1  \n",
      "139267      0  \n",
      "143335      1  \n",
      "268831      0  \n",
      "101955      0  \n",
      "\n",
      "[5 rows x 31 columns]\n",
      "<class 'pandas.core.frame.DataFrame'>\n",
      "Int64Index: 984 entries, 219025 to 27836\n",
      "Data columns (total 31 columns):\n",
      " #   Column         Non-Null Count  Dtype  \n",
      "---  ------         --------------  -----  \n",
      " 0   scaled_amount  984 non-null    float64\n",
      " 1   scaled_time    984 non-null    float64\n",
      " 2   V1             984 non-null    float64\n",
      " 3   V2             984 non-null    float64\n",
      " 4   V3             984 non-null    float64\n",
      " 5   V4             984 non-null    float64\n",
      " 6   V5             984 non-null    float64\n",
      " 7   V6             984 non-null    float64\n",
      " 8   V7             984 non-null    float64\n",
      " 9   V8             984 non-null    float64\n",
      " 10  V9             984 non-null    float64\n",
      " 11  V10            984 non-null    float64\n",
      " 12  V11            984 non-null    float64\n",
      " 13  V12            984 non-null    float64\n",
      " 14  V13            984 non-null    float64\n",
      " 15  V14            984 non-null    float64\n",
      " 16  V15            984 non-null    float64\n",
      " 17  V16            984 non-null    float64\n",
      " 18  V17            984 non-null    float64\n",
      " 19  V18            984 non-null    float64\n",
      " 20  V19            984 non-null    float64\n",
      " 21  V20            984 non-null    float64\n",
      " 22  V21            984 non-null    float64\n",
      " 23  V22            984 non-null    float64\n",
      " 24  V23            984 non-null    float64\n",
      " 25  V24            984 non-null    float64\n",
      " 26  V25            984 non-null    float64\n",
      " 27  V26            984 non-null    float64\n",
      " 28  V27            984 non-null    float64\n",
      " 29  V28            984 non-null    float64\n",
      " 30  Class          984 non-null    int64  \n",
      "dtypes: float64(30), int64(1)\n",
      "memory usage: 246.0 KB\n",
      "None\n"
     ]
    }
   ],
   "source": [
    "print(df.head())\n",
    "print(df.info())\n",
    "print('-====== = = = = = = = =')\n",
    "\n",
    "print(fraud_df.head(5))\n",
    "print(fraud_df.info())\n",
    "print('-====== = = = = = = = =')\n",
    "print(non_fraud_df.head(5))\n",
    "print(non_fraud_df.info())\n",
    "print('-====== = = = = = = = =')\n",
    "print(normal_distributed_df.head(5))\n",
    "print(normal_distributed_df.info())\n",
    "print('-====== = = = = = = = =')\n",
    "print(new_df.head(5))\n",
    "print(new_df.info())"
   ]
  },
  {
   "cell_type": "code",
   "execution_count": null,
   "metadata": {},
   "outputs": [],
   "source": []
  },
  {
   "cell_type": "code",
   "execution_count": 111,
   "metadata": {},
   "outputs": [
    {
     "data": {
      "text/plain": [
       "984"
      ]
     },
     "execution_count": 111,
     "metadata": {},
     "output_type": "execute_result"
    }
   ],
   "source": [
    "len(normal_distributed_df)"
   ]
  },
  {
   "cell_type": "markdown",
   "metadata": {
    "id": "WX0RYky9Hfrt"
   },
   "source": [
    "## Step 2. PCA와 t-SNE, SVD를 이용하여 차원 축소하기"
   ]
  },
  {
   "cell_type": "markdown",
   "metadata": {
    "id": "54vW4MVwHfrt"
   },
   "source": [
    "### 참고: 차원축소 방법\n",
    "    \n",
    "- 주성분 분석(Principal Component Analysis)\n",
    "- t-SNE (Stochastic Neighbor Embedding)\n",
    "    - SNE는 n 차원에 분포된 이산 데이터를 k(n 이하의 정수) 차원으로 축소하며 거리 정보를 보존하되, 거리가 가까운 데이터의 정보를 우선하여 보존하기 위해 고안되었음\n",
    "    - 단어 벡터와 같이 고차원 데이터를 시각화하는 데 가장 자주 쓰이는 알고리즘\n",
    "    - SNE 학습과정에 사용되는 가우시안 분포는 t 분포에 비해 거리에 따른 확률 값 변화의 경사가 가파른 특징을 가지기 때문에 특정 거리 이상부터는 학습과정에 거의 반영이 되지 않는 문제점을 가지고 있음(Crowding Problem)\n",
    "    - 이러한 문제점을 보완하기 위해 고안된 방법이 t-SNE: 학습과정에서 가우시안 분포 대신 t 분포를 이용\n",
    "    - t-SNE는 보통 word2vec으로 임베딩한 단어벡터를 시각화하는데 쓰임\n",
    "    \n",
    "- 특이값 분해(Singular Value Decomposition)\n",
    "- 그 외 잠재 의미분석(Latent Semantic Analysis), 행렬 인수분해(Matrix Factorization) 등\n",
    "\n",
    "실무에서는 스케일이 매우 큰 실제 데이터를 분석하기 위해서, 여러 방법론을 융합하여 사용하는 것이 필요"
   ]
  },
  {
   "cell_type": "markdown",
   "metadata": {
    "id": "gYvJ0XCsHfru"
   },
   "source": [
    "### 문제 04. 차원 축소하기"
   ]
  },
  {
   "cell_type": "code",
   "execution_count": 112,
   "metadata": {
    "id": "IcTAFXsnHfru"
   },
   "outputs": [
    {
     "name": "stdout",
     "output_type": "stream",
     "text": [
      "t-SNE done\n",
      "PCA done\n",
      "Truncated SVD done\n"
     ]
    }
   ],
   "source": [
    "from sklearn.manifold import TSNE\n",
    "from sklearn.decomposition import PCA, TruncatedSVD\n",
    "\n",
    "# 차원 축소할 데이터 준비\n",
    "X = new_df.drop('Class', axis=1)\n",
    "y = new_df['Class']\n",
    "\n",
    "# t-SNE  \n",
    "X_reduced_tsne = TSNE(n_components=2, random_state=0).fit_transform(X.values)                            # hint: n_components == 임베딩 공간의 차원 크기 \n",
    "print('t-SNE done')\n",
    "\n",
    "# PCA \n",
    "X_reduced_pca = PCA(n_components=2, random_state=0).fit_transform(X.values)                               # hint: n_components == 임베딩 공간의 차원 크기 \n",
    "print('PCA done')\n",
    "\n",
    "# TruncatedSVD\n",
    "X_reduced_svd =TruncatedSVD(n_components=2,algorithm='randomized', random_state=0).fit_transform(X.values)                                 # hint: n_components == 임베딩 공간의 차원 크기 \n",
    "print('Truncated SVD done')"
   ]
  },
  {
   "cell_type": "markdown",
   "metadata": {
    "id": "nnmObX2qHfru"
   },
   "source": [
    "### 문제 05. 결과 시각화하기"
   ]
  },
  {
   "cell_type": "code",
   "execution_count": 113,
   "metadata": {
    "id": "gN1LxrXQHfrv"
   },
   "outputs": [
    {
     "data": {
      "image/png": "[encoded data removed]",
      "text/plain": [
       "<Figure size 1728x432 with 3 Axes>"
      ]
     },
     "metadata": {
      "needs_background": "light"
     },
     "output_type": "display_data"
    }
   ],
   "source": [
    "f, (ax1, ax2, ax3) = plt.subplots(1, 3, figsize=(24, 6))\n",
    "f.suptitle('Clusters after Dimensionality Reduction', fontsize=16)\n",
    "\n",
    "# Label 범례 설정\n",
    "labels = ['No Fraud', 'Fraud']\n",
    "blue_patch = mpatches.Patch(color='#0A0AFF', label='No Fraud')\n",
    "red_patch = mpatches.Patch(color='#AF0000', label='Fraud')\n",
    "# t-SNE scatter plot\n",
    "ax1.scatter(X_reduced_tsne[:,0], X_reduced_tsne[:,1], c=(y == 0), cmap='coolwarm', label='No Fraud', linewidths=2)\n",
    "ax1.scatter(X_reduced_tsne[:,0], X_reduced_tsne[:,1], c=(y == 1), cmap='coolwarm', label='Fraud', linewidths=2)\n",
    "ax1.set_title('t-SNE', fontsize=14)\n",
    "ax1.grid(True)\n",
    "ax1.legend(handles=[blue_patch, red_patch])\n",
    "# PCA scatter plot\n",
    "ax2.scatter(X_reduced_pca[:,0], X_reduced_pca[:,1], c=(y == 0), cmap='coolwarm', label='No Fraud', linewidths=2)\n",
    "ax2.scatter(X_reduced_pca[:,0], X_reduced_pca[:,1], c=(y == 1), cmap='coolwarm', label='Fraud', linewidths=2)\n",
    "ax2.set_title('PCA', fontsize=14)\n",
    "ax2.grid(True)\n",
    "ax2.legend(handles=[blue_patch, red_patch])\n",
    "# TruncatedSVD scatter plot\n",
    "ax3.scatter(X_reduced_svd[:,0], X_reduced_svd[:,1], c=(y == 0), cmap='coolwarm', label='No Fraud', linewidths=2)\n",
    "ax3.scatter(X_reduced_svd[:,0], X_reduced_svd[:,1], c=(y == 1), cmap='coolwarm', label='Fraud', linewidths=2)\n",
    "ax3.set_title('Truncated SVD', fontsize=14)\n",
    "ax3.grid(True)\n",
    "ax3.legend(handles=[blue_patch, red_patch]) ###\n",
    "\n",
    "plt.show()"
   ]
  },
  {
   "cell_type": "markdown",
   "metadata": {
    "id": "xc2Qsn7EHfrv"
   },
   "source": [
    "## Step 3. Random Undersampling 으로 샘플 재구축하기"
   ]
  },
  {
   "cell_type": "markdown",
   "metadata": {
    "id": "-0vI7FxzHfrw"
   },
   "source": [
    "### 문제 06. 재구축 샘플로 분류모델 구현하기"
   ]
  },
  {
   "cell_type": "code",
   "execution_count": 114,
   "metadata": {
    "id": "j5Ab0mGBQdv3"
   },
   "outputs": [
    {
     "data": {
      "text/html": [
       "<div>\n",
       "<style scoped>\n",
       "    .dataframe tbody tr th:only-of-type {\n",
       "        vertical-align: middle;\n",
       "    }\n",
       "\n",
       "    .dataframe tbody tr th {\n",
       "        vertical-align: top;\n",
       "    }\n",
       "\n",
       "    .dataframe thead th {\n",
       "        text-align: right;\n",
       "    }\n",
       "</style>\n",
       "<table border=\"1\" class=\"dataframe\">\n",
       "  <thead>\n",
       "    <tr style=\"text-align: right;\">\n",
       "      <th></th>\n",
       "      <th>scaled_amount</th>\n",
       "      <th>scaled_time</th>\n",
       "      <th>V1</th>\n",
       "      <th>V2</th>\n",
       "      <th>V3</th>\n",
       "      <th>V4</th>\n",
       "      <th>V5</th>\n",
       "      <th>V6</th>\n",
       "      <th>V7</th>\n",
       "      <th>V8</th>\n",
       "      <th>...</th>\n",
       "      <th>V19</th>\n",
       "      <th>V20</th>\n",
       "      <th>V21</th>\n",
       "      <th>V22</th>\n",
       "      <th>V23</th>\n",
       "      <th>V24</th>\n",
       "      <th>V25</th>\n",
       "      <th>V26</th>\n",
       "      <th>V27</th>\n",
       "      <th>V28</th>\n",
       "    </tr>\n",
       "    <tr>\n",
       "      <th>Class</th>\n",
       "      <th></th>\n",
       "      <th></th>\n",
       "      <th></th>\n",
       "      <th></th>\n",
       "      <th></th>\n",
       "      <th></th>\n",
       "      <th></th>\n",
       "      <th></th>\n",
       "      <th></th>\n",
       "      <th></th>\n",
       "      <th></th>\n",
       "      <th></th>\n",
       "      <th></th>\n",
       "      <th></th>\n",
       "      <th></th>\n",
       "      <th></th>\n",
       "      <th></th>\n",
       "      <th></th>\n",
       "      <th></th>\n",
       "      <th></th>\n",
       "      <th></th>\n",
       "    </tr>\n",
       "  </thead>\n",
       "  <tbody>\n",
       "    <tr>\n",
       "      <th>0</th>\n",
       "      <td>492</td>\n",
       "      <td>492</td>\n",
       "      <td>492</td>\n",
       "      <td>492</td>\n",
       "      <td>492</td>\n",
       "      <td>492</td>\n",
       "      <td>492</td>\n",
       "      <td>492</td>\n",
       "      <td>492</td>\n",
       "      <td>492</td>\n",
       "      <td>...</td>\n",
       "      <td>492</td>\n",
       "      <td>492</td>\n",
       "      <td>492</td>\n",
       "      <td>492</td>\n",
       "      <td>492</td>\n",
       "      <td>492</td>\n",
       "      <td>492</td>\n",
       "      <td>492</td>\n",
       "      <td>492</td>\n",
       "      <td>492</td>\n",
       "    </tr>\n",
       "    <tr>\n",
       "      <th>1</th>\n",
       "      <td>492</td>\n",
       "      <td>492</td>\n",
       "      <td>492</td>\n",
       "      <td>492</td>\n",
       "      <td>492</td>\n",
       "      <td>492</td>\n",
       "      <td>492</td>\n",
       "      <td>492</td>\n",
       "      <td>492</td>\n",
       "      <td>492</td>\n",
       "      <td>...</td>\n",
       "      <td>492</td>\n",
       "      <td>492</td>\n",
       "      <td>492</td>\n",
       "      <td>492</td>\n",
       "      <td>492</td>\n",
       "      <td>492</td>\n",
       "      <td>492</td>\n",
       "      <td>492</td>\n",
       "      <td>492</td>\n",
       "      <td>492</td>\n",
       "    </tr>\n",
       "  </tbody>\n",
       "</table>\n",
       "<p>2 rows × 30 columns</p>\n",
       "</div>"
      ],
      "text/plain": [
       "       scaled_amount  scaled_time   V1   V2   V3   V4   V5   V6   V7   V8  \\\n",
       "Class                                                                       \n",
       "0                492          492  492  492  492  492  492  492  492  492   \n",
       "1                492          492  492  492  492  492  492  492  492  492   \n",
       "\n",
       "       ...  V19  V20  V21  V22  V23  V24  V25  V26  V27  V28  \n",
       "Class  ...                                                    \n",
       "0      ...  492  492  492  492  492  492  492  492  492  492  \n",
       "1      ...  492  492  492  492  492  492  492  492  492  492  \n",
       "\n",
       "[2 rows x 30 columns]"
      ]
     },
     "execution_count": 114,
     "metadata": {},
     "output_type": "execute_result"
    }
   ],
   "source": [
    "# 재구축한 데이터의 클래스 분포 확인하기\n",
    "\n",
    "new_df.groupby(by=['Class']).count()"
   ]
  },
  {
   "cell_type": "code",
   "execution_count": 115,
   "metadata": {
    "id": "UPh_wmVYHfrw"
   },
   "outputs": [],
   "source": [
    "# X와 y 데이터 셋 만들기\n",
    "X = new_df.drop('Class', axis=1)\n",
    "y = new_df['Class']"
   ]
  },
  {
   "cell_type": "code",
   "execution_count": 116,
   "metadata": {
    "id": "6_Xrtl1iHfrx"
   },
   "outputs": [],
   "source": [
    "# 언더샘플링을 위한 샘플 데이터 구축\n",
    "from sklearn.model_selection import train_test_split\n",
    "\n",
    "X_train, X_test, y_train, y_test = train_test_split(X, y, test_size=0.2, random_state=0)"
   ]
  },
  {
   "cell_type": "code",
   "execution_count": 117,
   "metadata": {
    "id": "XE9v-KgNHfrx"
   },
   "outputs": [],
   "source": [
    "# 모델 인풋에 들어가기 위한 데이터의 형태 바꾸기\n",
    "X_train = X_train.values\n",
    "X_test = X_test.values\n",
    "y_train = y_train.values\n",
    "y_test = y_test.values"
   ]
  },
  {
   "cell_type": "code",
   "execution_count": 85,
   "metadata": {},
   "outputs": [
    {
     "name": "stdout",
     "output_type": "stream",
     "text": [
      "Collecting lightgbm\n",
      "  Downloading lightgbm-3.3.3-py3-none-win_amd64.whl (1.0 MB)\n",
      "     ---------------------------------------- 1.0/1.0 MB 2.4 MB/s eta 0:00:00\n",
      "Requirement already satisfied: wheel in c:\\users\\82105\\anaconda3\\lib\\site-packages (from lightgbm) (0.37.1)\n",
      "Requirement already satisfied: scikit-learn!=0.22.0 in c:\\users\\82105\\anaconda3\\lib\\site-packages (from lightgbm) (1.1.2)\n",
      "Requirement already satisfied: numpy in c:\\users\\82105\\anaconda3\\lib\\site-packages (from lightgbm) (1.21.5)\n",
      "Requirement already satisfied: scipy in c:\\users\\82105\\anaconda3\\lib\\site-packages (from lightgbm) (1.7.3)\n",
      "Requirement already satisfied: joblib>=1.0.0 in c:\\users\\82105\\anaconda3\\lib\\site-packages (from scikit-learn!=0.22.0->lightgbm) (1.1.0)\n",
      "Requirement already satisfied: threadpoolctl>=2.0.0 in c:\\users\\82105\\anaconda3\\lib\\site-packages (from scikit-learn!=0.22.0->lightgbm) (2.2.0)\n",
      "Note: you may need to restart the kernel to use updated packages.\n",
      "Installing collected packages: lightgbm\n",
      "Successfully installed lightgbm-3.3.3\n"
     ]
    }
   ],
   "source": [
    "pip install lightgbm"
   ]
  },
  {
   "cell_type": "code",
   "execution_count": 118,
   "metadata": {
    "id": "gtYCgvH2Hfrx"
   },
   "outputs": [],
   "source": [
    "# 학습시킬 모델 로드하기\n",
    "from sklearn.linear_model import LogisticRegression\n",
    "from sklearn.svm import SVC\n",
    "from sklearn.tree import DecisionTreeClassifier\n",
    "from sklearn.neighbors import KNeighborsClassifier\n",
    "from sklearn.ensemble import RandomForestClassifier\n",
    "from sklearn.ensemble import GradientBoostingClassifier\n",
    "from lightgbm import LGBMClassifier\n",
    "\n",
    "classifiers = {\n",
    "    \"Logisitic Regression\": LogisticRegression(),\n",
    "    \"K Nearest\": KNeighborsClassifier(),\n",
    "    \"Support Vector Classifier\": SVC(),\n",
    "    \"Decision Tree Classifier\": DecisionTreeClassifier(),\n",
    "    \"Random Forest Classifier\": RandomForestClassifier(),\n",
    "    \"Gradient Boosting Classifier\": GradientBoostingClassifier(),\n",
    "    \"LightGBM Classifier\": LGBMClassifier()\n",
    "}"
   ]
  },
  {
   "cell_type": "code",
   "execution_count": 119,
   "metadata": {
    "id": "Yfo-WUEkHfry"
   },
   "outputs": [
    {
     "name": "stdout",
     "output_type": "stream",
     "text": [
      "LogisticRegression : 94.0 % accuracy\n",
      "KNeighborsClassifier : 95.0 % accuracy\n",
      "SVC : 94.0 % accuracy\n",
      "DecisionTreeClassifier : 89.0 % accuracy\n",
      "RandomForestClassifier : 94.0 % accuracy\n",
      "GradientBoostingClassifier : 94.0 % accuracy\n",
      "LGBMClassifier : 95.0 % accuracy\n"
     ]
    }
   ],
   "source": [
    "# 모델별 cross validation 한 결과의 평균 정확도 점수 출력하기\n",
    "from sklearn.model_selection import cross_val_score\n",
    "\n",
    "for key, classifier in classifiers.items():\n",
    "    classifier.fit(X_train, y_train)\n",
    "    training_score = cross_val_score(classifier, X_train, y_train, cv=5)\n",
    "    print(classifier.__class__.__name__, ':', round(training_score.mean(), 2) * 100, '% accuracy')"
   ]
  },
  {
   "cell_type": "markdown",
   "metadata": {
    "id": "mnt7Hi91Hfry"
   },
   "source": [
    "### 문제 07. 분류 결과 확인하기"
   ]
  },
  {
   "cell_type": "code",
   "execution_count": null,
   "metadata": {
    "id": "-e8VVhtwHfry"
   },
   "outputs": [],
   "source": [
    "### 올바른 예"
   ]
  },
  {
   "cell_type": "code",
   "execution_count": 120,
   "metadata": {
    "id": "iZNnZ3xeHfrz"
   },
   "outputs": [
    {
     "name": "stdout",
     "output_type": "stream",
     "text": [
      "LogisticRegression ------- \n",
      "               precision    recall  f1-score   support\n",
      "\n",
      "           0       0.91      0.96      0.93       101\n",
      "           1       0.96      0.90      0.92        96\n",
      "\n",
      "    accuracy                           0.93       197\n",
      "   macro avg       0.93      0.93      0.93       197\n",
      "weighted avg       0.93      0.93      0.93       197\n",
      "\n",
      "KNeighborsClassifier ------- \n",
      "               precision    recall  f1-score   support\n",
      "\n",
      "           0       0.90      0.98      0.94       101\n",
      "           1       0.98      0.89      0.93        96\n",
      "\n",
      "    accuracy                           0.93       197\n",
      "   macro avg       0.94      0.93      0.93       197\n",
      "weighted avg       0.94      0.93      0.93       197\n",
      "\n",
      "SVC ------- \n",
      "               precision    recall  f1-score   support\n",
      "\n",
      "           0       0.87      1.00      0.93       101\n",
      "           1       1.00      0.84      0.92        96\n",
      "\n",
      "    accuracy                           0.92       197\n",
      "   macro avg       0.94      0.92      0.92       197\n",
      "weighted avg       0.93      0.92      0.92       197\n",
      "\n",
      "DecisionTreeClassifier ------- \n",
      "               precision    recall  f1-score   support\n",
      "\n",
      "           0       0.91      0.88      0.89       101\n",
      "           1       0.88      0.91      0.89        96\n",
      "\n",
      "    accuracy                           0.89       197\n",
      "   macro avg       0.89      0.89      0.89       197\n",
      "weighted avg       0.89      0.89      0.89       197\n",
      "\n",
      "RandomForestClassifier ------- \n",
      "               precision    recall  f1-score   support\n",
      "\n",
      "           0       0.90      0.98      0.94       101\n",
      "           1       0.98      0.89      0.93        96\n",
      "\n",
      "    accuracy                           0.93       197\n",
      "   macro avg       0.94      0.93      0.93       197\n",
      "weighted avg       0.94      0.93      0.93       197\n",
      "\n",
      "GradientBoostingClassifier ------- \n",
      "               precision    recall  f1-score   support\n",
      "\n",
      "           0       0.91      0.97      0.94       101\n",
      "           1       0.97      0.90      0.93        96\n",
      "\n",
      "    accuracy                           0.93       197\n",
      "   macro avg       0.94      0.93      0.93       197\n",
      "weighted avg       0.94      0.93      0.93       197\n",
      "\n",
      "LGBMClassifier ------- \n",
      "               precision    recall  f1-score   support\n",
      "\n",
      "           0       0.93      0.98      0.95       101\n",
      "           1       0.98      0.92      0.95        96\n",
      "\n",
      "    accuracy                           0.95       197\n",
      "   macro avg       0.95      0.95      0.95       197\n",
      "weighted avg       0.95      0.95      0.95       197\n",
      "\n"
     ]
    }
   ],
   "source": [
    "# 모델별 분류결과 확인하기 (올바른 예)\n",
    "from sklearn.metrics import classification_report\n",
    "\n",
    "for key, classifier in classifiers.items():\n",
    "    y_pred = classifier.predict(X_test)  ####\n",
    "    results = classification_report(y_test, y_pred)  ####\n",
    "    print(classifier.__class__.__name__, '-------','\\n', results)"
   ]
  },
  {
   "cell_type": "code",
   "execution_count": 122,
   "metadata": {
    "id": "UUaF_jamHfrz"
   },
   "outputs": [
    {
     "name": "stdout",
     "output_type": "stream",
     "text": [
      "LogisticRegression \n",
      " [[97  4]\n",
      " [10 86]] \n",
      "\n",
      "KNeighborsClassifier \n",
      " [[99  2]\n",
      " [11 85]] \n",
      "\n",
      "SVC \n",
      " [[101   0]\n",
      " [ 15  81]] \n",
      "\n",
      "DecisionTreeClassifier \n",
      " [[89 12]\n",
      " [ 9 87]] \n",
      "\n",
      "RandomForestClassifier \n",
      " [[99  2]\n",
      " [11 85]] \n",
      "\n",
      "GradientBoostingClassifier \n",
      " [[98  3]\n",
      " [10 86]] \n",
      "\n",
      "LGBMClassifier \n",
      " [[99  2]\n",
      " [ 8 88]] \n",
      "\n"
     ]
    }
   ],
   "source": [
    "# 모델별 Confusion Matrix 확인하기 (올바른 예)\n",
    "from sklearn.metrics import confusion_matrix\n",
    "\n",
    "for key, classifier in classifiers.items():\n",
    "    y_pred =classifier.predict(X_test) ####\n",
    "    cm = confusion_matrix(y_test,y_pred) ####\n",
    "    print(classifier.__class__.__name__, '\\n', cm, '\\n')"
   ]
  },
  {
   "cell_type": "code",
   "execution_count": null,
   "metadata": {
    "id": "cruYzhW1Hfrz"
   },
   "outputs": [],
   "source": [
    "### 잘못된 예"
   ]
  },
  {
   "cell_type": "code",
   "execution_count": 123,
   "metadata": {
    "id": "fxEy-VXqHfr0"
   },
   "outputs": [
    {
     "name": "stdout",
     "output_type": "stream",
     "text": [
      "LogisticRegression ------- \n",
      "               precision    recall  f1-score   support\n",
      "\n",
      "           0       0.91      0.96      0.93       101\n",
      "           1       0.96      0.90      0.92        96\n",
      "\n",
      "    accuracy                           0.93       197\n",
      "   macro avg       0.93      0.93      0.93       197\n",
      "weighted avg       0.93      0.93      0.93       197\n",
      "\n",
      "KNeighborsClassifier ------- \n",
      "               precision    recall  f1-score   support\n",
      "\n",
      "           0       0.90      0.98      0.94       101\n",
      "           1       0.98      0.89      0.93        96\n",
      "\n",
      "    accuracy                           0.93       197\n",
      "   macro avg       0.94      0.93      0.93       197\n",
      "weighted avg       0.94      0.93      0.93       197\n",
      "\n",
      "SVC ------- \n",
      "               precision    recall  f1-score   support\n",
      "\n",
      "           0       0.87      1.00      0.93       101\n",
      "           1       1.00      0.84      0.92        96\n",
      "\n",
      "    accuracy                           0.92       197\n",
      "   macro avg       0.94      0.92      0.92       197\n",
      "weighted avg       0.93      0.92      0.92       197\n",
      "\n",
      "DecisionTreeClassifier ------- \n",
      "               precision    recall  f1-score   support\n",
      "\n",
      "           0       0.91      0.88      0.89       101\n",
      "           1       0.88      0.91      0.89        96\n",
      "\n",
      "    accuracy                           0.89       197\n",
      "   macro avg       0.89      0.89      0.89       197\n",
      "weighted avg       0.89      0.89      0.89       197\n",
      "\n",
      "RandomForestClassifier ------- \n",
      "               precision    recall  f1-score   support\n",
      "\n",
      "           0       0.90      0.98      0.94       101\n",
      "           1       0.98      0.89      0.93        96\n",
      "\n",
      "    accuracy                           0.93       197\n",
      "   macro avg       0.94      0.93      0.93       197\n",
      "weighted avg       0.94      0.93      0.93       197\n",
      "\n",
      "GradientBoostingClassifier ------- \n",
      "               precision    recall  f1-score   support\n",
      "\n",
      "           0       0.91      0.97      0.94       101\n",
      "           1       0.97      0.90      0.93        96\n",
      "\n",
      "    accuracy                           0.93       197\n",
      "   macro avg       0.94      0.93      0.93       197\n",
      "weighted avg       0.94      0.93      0.93       197\n",
      "\n",
      "LGBMClassifier ------- \n",
      "               precision    recall  f1-score   support\n",
      "\n",
      "           0       0.93      0.98      0.95       101\n",
      "           1       0.98      0.92      0.95        96\n",
      "\n",
      "    accuracy                           0.95       197\n",
      "   macro avg       0.95      0.95      0.95       197\n",
      "weighted avg       0.95      0.95      0.95       197\n",
      "\n"
     ]
    }
   ],
   "source": [
    "# 모델별 분류결과 확인하기\n",
    "from sklearn.metrics import classification_report\n",
    "\n",
    "for key, classifier in classifiers.items():\n",
    "    y_pred = classifier.predict(X_test) ####\n",
    "    results_wrong = classification_report(y_test, y_pred) ####\n",
    "    print(classifier.__class__.__name__, '-------','\\n', results_wrong)\n"
   ]
  },
  {
   "cell_type": "code",
   "execution_count": 124,
   "metadata": {
    "id": "vkZzRL5zHfr0"
   },
   "outputs": [
    {
     "name": "stdout",
     "output_type": "stream",
     "text": [
      "LogisticRegression ------- \n",
      "               precision    recall  f1-score   support\n",
      "\n",
      "           0       0.91      0.96      0.93       101\n",
      "           1       0.96      0.90      0.92        96\n",
      "\n",
      "    accuracy                           0.93       197\n",
      "   macro avg       0.93      0.93      0.93       197\n",
      "weighted avg       0.93      0.93      0.93       197\n",
      "\n",
      "KNeighborsClassifier ------- \n",
      "               precision    recall  f1-score   support\n",
      "\n",
      "           0       0.90      0.98      0.94       101\n",
      "           1       0.98      0.89      0.93        96\n",
      "\n",
      "    accuracy                           0.93       197\n",
      "   macro avg       0.94      0.93      0.93       197\n",
      "weighted avg       0.94      0.93      0.93       197\n",
      "\n",
      "SVC ------- \n",
      "               precision    recall  f1-score   support\n",
      "\n",
      "           0       0.87      1.00      0.93       101\n",
      "           1       1.00      0.84      0.92        96\n",
      "\n",
      "    accuracy                           0.92       197\n",
      "   macro avg       0.94      0.92      0.92       197\n",
      "weighted avg       0.93      0.92      0.92       197\n",
      "\n",
      "DecisionTreeClassifier ------- \n",
      "               precision    recall  f1-score   support\n",
      "\n",
      "           0       0.91      0.88      0.89       101\n",
      "           1       0.88      0.91      0.89        96\n",
      "\n",
      "    accuracy                           0.89       197\n",
      "   macro avg       0.89      0.89      0.89       197\n",
      "weighted avg       0.89      0.89      0.89       197\n",
      "\n",
      "RandomForestClassifier ------- \n",
      "               precision    recall  f1-score   support\n",
      "\n",
      "           0       0.90      0.98      0.94       101\n",
      "           1       0.98      0.89      0.93        96\n",
      "\n",
      "    accuracy                           0.93       197\n",
      "   macro avg       0.94      0.93      0.93       197\n",
      "weighted avg       0.94      0.93      0.93       197\n",
      "\n",
      "GradientBoostingClassifier ------- \n",
      "               precision    recall  f1-score   support\n",
      "\n",
      "           0       0.91      0.97      0.94       101\n",
      "           1       0.97      0.90      0.93        96\n",
      "\n",
      "    accuracy                           0.93       197\n",
      "   macro avg       0.94      0.93      0.93       197\n",
      "weighted avg       0.94      0.93      0.93       197\n",
      "\n",
      "LGBMClassifier ------- \n",
      "               precision    recall  f1-score   support\n",
      "\n",
      "           0       0.93      0.98      0.95       101\n",
      "           1       0.98      0.92      0.95        96\n",
      "\n",
      "    accuracy                           0.95       197\n",
      "   macro avg       0.95      0.95      0.95       197\n",
      "weighted avg       0.95      0.95      0.95       197\n",
      "\n"
     ]
    }
   ],
   "source": [
    "# 모델별 Confusion Matrix 확인하기 (잘못된 예)\n",
    "from sklearn.metrics import confusion_matrix\n",
    "\n",
    "for key, classifier in classifiers.items():\n",
    "    y_pred = classifier.predict(X_test) ####\n",
    "    results = classification_report(y_test, y_pred) ####\n",
    "    print(classifier.__class__.__name__, '-------','\\n', results)"
   ]
  },
  {
   "cell_type": "markdown",
   "metadata": {
    "id": "1oXF5HYgHfr1"
   },
   "source": [
    "## Step 4. SMOTE 로 Oversampling 하기 "
   ]
  },
  {
   "cell_type": "markdown",
   "metadata": {
    "id": "hh8_MuoyHfr1"
   },
   "source": [
    "### 참고:\n",
    "\n",
    "- 리샘플링(Synthetic Minority Oversampling Technique)\n",
    "\n",
    "- 모델 파라미터 조정\n",
    "    - `scale_pos_weight`\n",
    "    - `is_unbalance`\n",
    "    - `{class_label: weight}`"
   ]
  },
  {
   "cell_type": "code",
   "execution_count": 95,
   "metadata": {},
   "outputs": [
    {
     "name": "stdout",
     "output_type": "stream",
     "text": [
      "Collecting imblearn\n",
      "  Downloading imblearn-0.0-py2.py3-none-any.whl (1.9 kB)\n",
      "Collecting imbalanced-learn\n",
      "  Downloading imbalanced_learn-0.9.1-py3-none-any.whl (199 kB)\n",
      "     -------------------------------------- 199.3/199.3 kB 2.4 MB/s eta 0:00:00\n",
      "Requirement already satisfied: threadpoolctl>=2.0.0 in c:\\users\\82105\\anaconda3\\lib\\site-packages (from imbalanced-learn->imblearn) (2.2.0)\n",
      "Requirement already satisfied: scipy>=1.3.2 in c:\\users\\82105\\anaconda3\\lib\\site-packages (from imbalanced-learn->imblearn) (1.7.3)\n",
      "Requirement already satisfied: numpy>=1.17.3 in c:\\users\\82105\\anaconda3\\lib\\site-packages (from imbalanced-learn->imblearn) (1.21.5)\n",
      "Requirement already satisfied: scikit-learn>=1.1.0 in c:\\users\\82105\\anaconda3\\lib\\site-packages (from imbalanced-learn->imblearn) (1.1.2)\n",
      "Requirement already satisfied: joblib>=1.0.0 in c:\\users\\82105\\anaconda3\\lib\\site-packages (from imbalanced-learn->imblearn) (1.1.0)\n",
      "Installing collected packages: imbalanced-learn, imblearn\n",
      "Successfully installed imbalanced-learn-0.9.1 imblearn-0.0\n",
      "Note: you may need to restart the kernel to use updated packages.\n"
     ]
    }
   ],
   "source": [
    "pip install imblearn"
   ]
  },
  {
   "cell_type": "markdown",
   "metadata": {
    "id": "zJOW1i5CHfr1"
   },
   "source": [
    "### 문제 08. SMOTE로 Oversampling하기"
   ]
  },
  {
   "cell_type": "code",
   "execution_count": 131,
   "metadata": {
    "id": "LzspKNAMHfr1"
   },
   "outputs": [
    {
     "name": "stdout",
     "output_type": "stream",
     "text": [
      "Before SMOTE, original X_train: (787, 30)\n",
      "Before SMOTE, original y_train: (787,)\n",
      "After  SMOTE, resampled original X_train: (792, 30)\n",
      "After  SMOTE, resampled original y_train: (792,) \n",
      "\n",
      "Before SMOTE,     fraud counts: 396\n",
      "Before SMOTE, non-fraud counts: 391\n",
      "After  SMOTE,     fraud counts: 396\n",
      "After  SMOTE, non-fraud counts: 396\n"
     ]
    }
   ],
   "source": [
    "from imblearn.over_sampling import SMOTE\n",
    "\n",
    "sm = SMOTE()\n",
    "X_resampled, y_resampled = sm.fit_resample(X_train, list(y_train))  ####\n",
    "\n",
    "\n",
    "print('Before SMOTE, original X_train: {}'.format(X_train.shape)) \n",
    "print('Before SMOTE, original y_train: {}'.format(np.array(y_train).shape))\n",
    "print('After  SMOTE, resampled original X_train: {}'.format(X_resampled.shape)) \n",
    "print('After  SMOTE, resampled original y_train: {} \\n'.format(np.array(y_resampled).shape))\n",
    "\n",
    "print(\"Before SMOTE,     fraud counts: {}\".format(sum(np.array(y_train)==1)))\n",
    "print(\"Before SMOTE, non-fraud counts: {}\".format(sum(np.array(y_train)==0)))\n",
    "print(\"After  SMOTE,     fraud counts: {}\".format(sum(np.array(y_resampled)==1)))\n",
    "print(\"After  SMOTE, non-fraud counts: {}\".format(sum(np.array(y_resampled)==0)))"
   ]
  },
  {
   "cell_type": "markdown",
   "metadata": {
    "id": "xBub1OZAHfr2"
   },
   "source": [
    "### 문제 09. 재구축한 샘플로 분류 모형 구현하기(2가지 방법)"
   ]
  },
  {
   "cell_type": "code",
   "execution_count": null,
   "metadata": {
    "id": "U_-sysU4Hfr2"
   },
   "outputs": [],
   "source": [
    "# 방법 1: 모델의 파라미터를 조정하는 방법 "
   ]
  },
  {
   "cell_type": "code",
   "execution_count": 132,
   "metadata": {
    "id": "aYUJWyk_Hfr3"
   },
   "outputs": [],
   "source": [
    "from sklearn.metrics import accuracy_score, recall_score\n",
    "# f1_score, roc_auc_score, precision_score"
   ]
  },
  {
   "cell_type": "code",
   "execution_count": 134,
   "metadata": {
    "id": "dA9Ph7c-Hfr3"
   },
   "outputs": [
    {
     "name": "stdout",
     "output_type": "stream",
     "text": [
      "Logistic Regression ------ Weighted\n",
      "Accuracy: 0.7817258883248731\n",
      "\n",
      "\n",
      "Confusion Matrix: \n",
      "[[60 41]\n",
      " [ 2 94]]\n",
      "\n",
      "\n",
      "Recall: 0.9791666666666666\n"
     ]
    }
   ],
   "source": [
    "# Logistic Regression 모델의 weight 파라미터 지정하기\n",
    "\n",
    "w = {1:0,1:99} ## 불균형 클래스 weight 파라미터 지정\n",
    "\n",
    "# 모델 피팅\n",
    "logreg_weighted = LogisticRegression(random_state=0, class_weight=w)  ###\n",
    "logreg_weighted.fit(X_train,y_train ) ###\n",
    "\n",
    "# 예측값 구하기\n",
    "y_pred = logreg_weighted.predict(X_test) ###\n",
    "\n",
    "# 예측 결과값 확인하기\n",
    "print('Logistic Regression ------ Weighted')\n",
    "print(f'Accuracy: {accuracy_score(y_test,y_pred) }')###\n",
    "\n",
    "print('\\n')\n",
    "print(f'Confusion Matrix: \\n{confusion_matrix(y_test, y_pred) }')###\n",
    "\n",
    "print('\\n')\n",
    "print(f'Recall: {recall_score(y_test,y_pred) }')###\n"
   ]
  },
  {
   "cell_type": "code",
   "execution_count": 137,
   "metadata": {
    "id": "iWXdCRFVHfr3"
   },
   "outputs": [
    {
     "name": "stdout",
     "output_type": "stream",
     "text": [
      "                   pre       rec       spe        f1       geo       iba       sup\n",
      "\n",
      "  non-fraud       0.97      0.59      0.98      0.74      0.76      0.56       101\n",
      "      fraud       0.70      0.98      0.59      0.81      0.76      0.60        96\n",
      "\n",
      "avg / total       0.84      0.78      0.79      0.77      0.76      0.58       197\n",
      "\n"
     ]
    }
   ],
   "source": [
    "# imblearn 패키지를 이용하여 예측 결과 확인하기\n",
    "from imblearn.metrics import classification_report_imbalanced\n",
    "\n",
    "label = ['non-fraud', 'fraud'] \n",
    "print(classification_report_imbalanced(y_test, y_pred,target_names=label))"
   ]
  },
  {
   "cell_type": "code",
   "execution_count": null,
   "metadata": {
    "id": "bshq5EsiHfr4"
   },
   "outputs": [],
   "source": [
    "# 방법 2: Resampling 으로 재구축한 샘플을 이용하는 방법"
   ]
  },
  {
   "cell_type": "code",
   "execution_count": 143,
   "metadata": {
    "id": "Jge-s3ymHfr4"
   },
   "outputs": [
    {
     "name": "stdout",
     "output_type": "stream",
     "text": [
      "Logistic Regression ------ Resampled Data\n",
      "Accuracy: 0.9289340101522843\n",
      "\n",
      "\n",
      "Confusion Matrix: \n",
      "[[97  4]\n",
      " [10 86]]\n",
      "\n",
      "\n",
      "Recall: 0.8958333333333334\n"
     ]
    }
   ],
   "source": [
    "# 재구축한 샘플 데이터로 모델 피팅하기\n",
    "logreg_resampled = LogisticRegression(random_state=0)  ###\n",
    "logreg_resampled.fit(X_train, y_train  ) ###\n",
    "\n",
    "# 예측값 구하기\n",
    "y_pred = logreg_resampled.predict(X_test)\n",
    "\n",
    "# 예측 결과값 확인하기\n",
    "print('Logistic Regression ------ Resampled Data')\n",
    "print(f'Accuracy: {accuracy_score(y_test,y_pred) }') ###\n",
    "\n",
    "print('\\n')\n",
    "print(f'Confusion Matrix: \\n{confusion_matrix(y_test,y_pred)}') ###\n",
    "\n",
    "print('\\n')\n",
    "print(f'Recall: {recall_score(y_test,y_pred)}') ###"
   ]
  },
  {
   "cell_type": "code",
   "execution_count": 145,
   "metadata": {
    "id": "nomGDXsEHfr4"
   },
   "outputs": [
    {
     "name": "stdout",
     "output_type": "stream",
     "text": [
      "                   pre       rec       spe        f1       geo       iba       sup\n",
      "\n",
      "  non-Fraud       0.91      0.96      0.90      0.93      0.93      0.87       101\n",
      "      Fraud       0.96      0.90      0.96      0.92      0.93      0.85        96\n",
      "\n",
      "avg / total       0.93      0.93      0.93      0.93      0.93      0.86       197\n",
      "\n"
     ]
    }
   ],
   "source": [
    "# imblearn 패키지를 이용하여 예측 결과 확인하기\n",
    "from imblearn.metrics import classification_report_imbalanced\n",
    "\n",
    "label = ['non-Fraud','Fraud' ] \n",
    "print(classification_report_imbalanced(y_test,y_pred,target_names=label)) "
   ]
  },
  {
   "cell_type": "markdown",
   "metadata": {
    "id": "BCyFf7FwHfr5"
   },
   "source": [
    "## Step 5. 요약"
   ]
  },
  {
   "cell_type": "markdown",
   "metadata": {
    "id": "WQ3uc3X7Hfr5"
   },
   "source": [
    "- 1) 불균형 분류 문제에 대한 이해: 사기탐지 데이터\n",
    "- 2) 피처 변환 알고리즘의 이해: <b>PCA</b>, <b>t-SNE</b>, <b>SVD</b>\n",
    "- 3) 과대적합 발생시 해결 방법 습득: 모델 파라미터 조정, 샘플 재구축\n",
    "- 4) 리샘플링 알고리즘에 대한 이해: <b>Random Undersampling</b>, <b>Random Oversampling</b>, <b>SMOTE Oversampling</b> 등\n",
    "- 5) 불균형 데이터를 이용한 분류 결과의 올바른 해석 방법 습득: `classification_report_imbalanced` 이용하기"
   ]
  }
 ],
 "metadata": {
  "colab": {
   "collapsed_sections": [
    "M_vxcIZOHfrq",
    "A_bkDNq4Hfrq",
    "54vW4MVwHfrt",
    "hh8_MuoyHfr1",
    "zJOW1i5CHfr1",
    "xBub1OZAHfr2"
   ],
   "name": "Chapter 04. (문제시트) 불균형 데이터로 신용카드 사기탐지 모델 구현하기",
   "provenance": [
    {
     "file_id": "137mEc9OOVMZqFOi8srCaMyjzsU3xFiSd",
     "timestamp": 1613922687387
    }
   ]
  },
  "kernelspec": {
   "display_name": "Python 3 (ipykernel)",
   "language": "python",
   "name": "python3"
  },
  "language_info": {
   "codemirror_mode": {
    "name": "ipython",
    "version": 3
   },
   "file_extension": ".py",
   "mimetype": "text/x-python",
   "name": "python",
   "nbconvert_exporter": "python",
   "pygments_lexer": "ipython3",
   "version": "3.9.12"
  },
  "toc": {
   "base_numbering": 1,
   "nav_menu": {},
   "number_sections": true,
   "sideBar": true,
   "skip_h1_title": false,
   "title_cell": "Table of Contents",
   "title_sidebar": "Contents",
   "toc_cell": false,
   "toc_position": {},
   "toc_section_display": true,
   "toc_window_display": false
  }
 },
 "nbformat": 4,
 "nbformat_minor": 1
}
